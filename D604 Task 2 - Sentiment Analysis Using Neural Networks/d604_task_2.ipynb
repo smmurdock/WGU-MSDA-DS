{
 "cells": [
  {
   "cell_type": "markdown",
   "id": "1c844150",
   "metadata": {},
   "source": [
    "# D604 Task 2 - Sentiment Analysis Using Neural Networks"
   ]
  },
  {
   "cell_type": "markdown",
   "id": "c0b3ad0f",
   "metadata": {},
   "source": [
    "## A. Research Purpose"
   ]
  },
  {
   "cell_type": "markdown",
   "id": "550d2d88",
   "metadata": {},
   "source": [
    "### A1. Research Question"
   ]
  },
  {
   "cell_type": "markdown",
   "id": "cbd786c5",
   "metadata": {},
   "source": [
    "**Research Question:** Can a neural network be trained to accurately classify sentiment in customer product reviews from Amazon as either positive or negative?\n",
    "\n",
    "This question is directly relevant to a real-world organizational situation. For a company like Amazon or any third-party seller on its platform, manually sifting through thousands of customer reviews to gauge public opinion is impractical based on the sheer volume of Amazon's product catalog. A system that can accurately classify sentiment allows an organization to quickly monitor customer feedback at scale. This enables them to identify popular product features, detect widespread product defects, determine if a product is likely to be returned, and track shifts in customer satisfaction over time, leading to faster product improvements and better customer service."
   ]
  },
  {
   "cell_type": "markdown",
   "id": "9a8b31bb",
   "metadata": {},
   "source": [
    "### A2. Objectives or Goals"
   ]
  },
  {
   "cell_type": "markdown",
   "id": "7a0ea78f",
   "metadata": {},
   "source": [
    "The primary goals of this data analysis are to design, build, and evaluate a neural network for sentiment classification. The specific objectives are as follows:\n",
    "\n",
    "* **Data Preprocessing:** To clean and prepare the raw text data from the Amazon reviews dataset for modeling.\n",
    "\n",
    "* **Model Development:** To build and train a suitable neural network. This analysis will use an LSTM-based architecture, which is effective for learning from sequential data like text. The goal is to train the model to recognize patterns and contextual cues in word usage that indicate positive or negative sentiment.\n",
    "\n",
    "* **Model Evaluation:** To assess the performance of the trained model on an unseen test dataset. The objective is to quantify its predictive accuracy using key classification metrics. This evaluation will directly answer how effectively the model can classify new, unseen review data."
   ]
  },
  {
   "cell_type": "markdown",
   "id": "608b706b",
   "metadata": {},
   "source": [
    "### A3. Prescribed Network"
   ]
  },
  {
   "cell_type": "markdown",
   "id": "81e7121c",
   "metadata": {},
   "source": [
    "An appropriate and industry-relevant neural network for this text sentiment classification tasks is the **Long Short-Term Memory (LSTM)** neural network.\n",
    "\n",
    "LSTMs are a type of **Recurrent Neural Network (RNN)** specifically designed to handle and learn from sequential data like text, where the order of text matters. Unlike standard RNNs, LSTMs have internal memory cells that can maintain information over long sequences <mark>(Audevart et al., 2021, p. 272)</mark>. This capability is crucial for natural language processing because the meaning of a word often depends on its context <mark>(Ahmad, 2023, p. 333)</mark>. An LSTM can capture these dependencies, allowing it to understand nuances in language that are critical for accurately determining sentiment. This makes LSTMs a powerful and widely used tool for sentiment analysis in real-world applications."
   ]
  },
  {
   "cell_type": "markdown",
   "id": "256e0002",
   "metadata": {},
   "source": [
    "## B. Data Preparation"
   ]
  },
  {
   "cell_type": "markdown",
   "id": "460b42f1",
   "metadata": {},
   "source": [
    "### B1. Data Exploration"
   ]
  },
  {
   "cell_type": "code",
   "execution_count": 1,
   "id": "49b143f0",
   "metadata": {},
   "outputs": [
    {
     "name": "stdout",
     "output_type": "stream",
     "text": [
      "First 5 rows:\n"
     ]
    },
    {
     "data": {
      "text/html": [
       "<div>\n",
       "<style scoped>\n",
       "    .dataframe tbody tr th:only-of-type {\n",
       "        vertical-align: middle;\n",
       "    }\n",
       "\n",
       "    .dataframe tbody tr th {\n",
       "        vertical-align: top;\n",
       "    }\n",
       "\n",
       "    .dataframe thead th {\n",
       "        text-align: right;\n",
       "    }\n",
       "</style>\n",
       "<table border=\"1\" class=\"dataframe\">\n",
       "  <thead>\n",
       "    <tr style=\"text-align: right;\">\n",
       "      <th></th>\n",
       "      <th>review</th>\n",
       "      <th>sentiment</th>\n",
       "    </tr>\n",
       "  </thead>\n",
       "  <tbody>\n",
       "    <tr>\n",
       "      <th>0</th>\n",
       "      <td>So there is no way for me to plug it in here in the US unless I go by a converter.</td>\n",
       "      <td>0</td>\n",
       "    </tr>\n",
       "    <tr>\n",
       "      <th>1</th>\n",
       "      <td>Good case, Excellent value.</td>\n",
       "      <td>1</td>\n",
       "    </tr>\n",
       "    <tr>\n",
       "      <th>2</th>\n",
       "      <td>Great for the jawbone.</td>\n",
       "      <td>1</td>\n",
       "    </tr>\n",
       "    <tr>\n",
       "      <th>3</th>\n",
       "      <td>Tied to charger for conversations lasting more than 45 minutes.MAJOR PROBLEMS!!</td>\n",
       "      <td>0</td>\n",
       "    </tr>\n",
       "    <tr>\n",
       "      <th>4</th>\n",
       "      <td>The mic is great.</td>\n",
       "      <td>1</td>\n",
       "    </tr>\n",
       "  </tbody>\n",
       "</table>\n",
       "</div>"
      ],
      "text/plain": [
       "                                                                               review  \\\n",
       "0  So there is no way for me to plug it in here in the US unless I go by a converter.   \n",
       "1                                                         Good case, Excellent value.   \n",
       "2                                                              Great for the jawbone.   \n",
       "3     Tied to charger for conversations lasting more than 45 minutes.MAJOR PROBLEMS!!   \n",
       "4                                                                   The mic is great.   \n",
       "\n",
       "   sentiment  \n",
       "0          0  \n",
       "1          1  \n",
       "2          1  \n",
       "3          0  \n",
       "4          1  "
      ]
     },
     "execution_count": 1,
     "metadata": {},
     "output_type": "execute_result"
    }
   ],
   "source": [
    "# Load libraries\n",
    "import pandas as pd\n",
    "import numpy as np\n",
    "import matplotlib.pyplot as plt\n",
    "import seaborn as sns\n",
    "import tensorflow as tf\n",
    "import random\n",
    "import warnings\n",
    "\n",
    "from pandas.errors import SettingWithCopyWarning\n",
    "\n",
    "warnings.simplefilter(action=\"ignore\", category=SettingWithCopyWarning)\n",
    "\n",
    "# Set random seeds\n",
    "random.seed(42)\n",
    "np.random.seed(42)\n",
    "tf.random.set_seed(42)\n",
    "\n",
    "# Format for readability\n",
    "pd.set_option('display.max_colwidth', 100)\n",
    "sns.set_style('whitegrid')\n",
    "\n",
    "# Load the data\n",
    "df = pd.read_csv('amazon_cells_labelled.txt',\n",
    "                 sep='\\t',\n",
    "                 header=None,\n",
    "                 names=['review', 'sentiment'])\n",
    "\n",
    "# View the first few rows\n",
    "print(\"First 5 rows:\")\n",
    "df.head()"
   ]
  },
  {
   "cell_type": "markdown",
   "id": "33fe7ec3",
   "metadata": {},
   "source": [
    "The code cell above loads in the basic libraries needed to get started.\n",
    "\n",
    "The code loads in the text file as a tab-delimited file with no headers identifying what the observations mean. Because of this, I looked at the data ahead of time in its raw format and determined appropriate names to act as column headers.\n",
    "\n",
    "Then, the code reads the first five rows and gives a glimpse of how the data is formatted and what issues may present themselves. We can already see some issues like use of punctuation, differences in casing, and missing spaces in between sentences."
   ]
  },
  {
   "cell_type": "code",
   "execution_count": 2,
   "id": "ec3593fd",
   "metadata": {},
   "outputs": [
    {
     "name": "stdout",
     "output_type": "stream",
     "text": [
      "Dataset shape: (1000, 2)\n",
      "============================================================\n",
      "Total reviews: 1000\n",
      "Missing values: 0\n",
      "Duplicates: 10 (1.0%)\n"
     ]
    }
   ],
   "source": [
    "# Basic dataset information\n",
    "print(f\"Dataset shape: {df.shape}\")\n",
    "print(\"=\" * 60)\n",
    "print(f\"Total reviews: {df.shape[0]}\")\n",
    "print(f\"Missing values: {df.isnull().sum().sum()}\")\n",
    "print(f\"Duplicates: {df.duplicated().sum()} ({df.duplicated().sum() / len(df) * 100:.1f}%)\")"
   ]
  },
  {
   "cell_type": "markdown",
   "id": "90f8a542",
   "metadata": {},
   "source": [
    "The dataset contains 1,000 Amazon product reviews with no missing values. There are 10 duplicate reviews (1% of the dataset), which we'll remove to ensure data quality."
   ]
  },
  {
   "cell_type": "code",
   "execution_count": 3,
   "id": "31831612",
   "metadata": {},
   "outputs": [
    {
     "name": "stdout",
     "output_type": "stream",
     "text": [
      "Shape after removing duplicates: 990 reviews\n"
     ]
    }
   ],
   "source": [
    "# Remove duplicates\n",
    "df_clean = df.drop_duplicates(keep='first')\n",
    "print(f\"Shape after removing duplicates: {len(df_clean)} reviews\")"
   ]
  },
  {
   "cell_type": "markdown",
   "id": "634904dc",
   "metadata": {},
   "source": [
    "The code above removes the duplicate reviews, keeping the first instance of any duplicates, and then shows a count of how many reviews remain."
   ]
  },
  {
   "cell_type": "code",
   "execution_count": 4,
   "id": "4626ecc5",
   "metadata": {},
   "outputs": [
    {
     "name": "stdout",
     "output_type": "stream",
     "text": [
      "Unique sentiment values:\n",
      "[0 1]\n",
      "Number of unique sentiment values: 2\n"
     ]
    }
   ],
   "source": [
    "# Check unique values in sentiment column\n",
    "print(\"Unique sentiment values:\")\n",
    "print(df_clean['sentiment'].unique())\n",
    "print(f\"Number of unique sentiment values: {df_clean['sentiment'].nunique()}\")"
   ]
  },
  {
   "cell_type": "markdown",
   "id": "7d7053a3",
   "metadata": {},
   "source": [
    "The code cell above checks the DataFrame's `'sentiment'` column for unique values to ensure that there are only the expected binary values of `0` for negative sentiment and `1` for positive sentiment. There are no unexpected values."
   ]
  },
  {
   "cell_type": "code",
   "execution_count": 5,
   "id": "5b51b195",
   "metadata": {},
   "outputs": [
    {
     "name": "stdout",
     "output_type": "stream",
     "text": [
      "Sentiment distribution:\n",
      "sentiment\n",
      "0    497\n",
      "1    493\n",
      "Name: count, dtype: int64\n",
      "\n",
      "Percentages:\n",
      "sentiment\n",
      "0    50.20202\n",
      "1    49.79798\n",
      "Name: proportion, dtype: float64\n"
     ]
    }
   ],
   "source": [
    "# Check class balance\n",
    "print(\"Sentiment distribution:\")\n",
    "print(df_clean['sentiment'].value_counts())\n",
    "print(f\"\\nPercentages:\")\n",
    "print(df_clean['sentiment'].value_counts(normalize=True) * 100)"
   ]
  },
  {
   "cell_type": "markdown",
   "id": "ce91a62d",
   "metadata": {},
   "source": [
    "The code cell above checks how balanced the sentiment is across negative and positive reviews, both in actual numbers and in proportion to the full remaining dataset.\n",
    "\n",
    "After removing the duplicates, there are 497 negative reviews and 493 positive reviews. Based on the small difference, we can consider this dataset to be balanced.\n",
    "\n",
    "This information is important to keep in mind for when we split our datasets into train/validation/test datasets later in step **B5. Steps to Prepare the Data**, as we'll want to keep the proportions while shuffling the data. This ensures that the model *can't* learn from patterns that occur based on what order the data was added to the dataset but that it *can* learn, validate, and test fairly across representative proportions."
   ]
  },
  {
   "cell_type": "code",
   "execution_count": 6,
   "id": "bb2883a0",
   "metadata": {},
   "outputs": [
    {
     "data": {
      "image/png": "[encoded data removed]",
      "text/plain": [
       "<Figure size 800x500 with 1 Axes>"
      ]
     },
     "metadata": {},
     "output_type": "display_data"
    }
   ],
   "source": [
    "# Visualize class balance\n",
    "plt.figure(figsize=(8, 5))\n",
    "sentiment_counts = df_clean['sentiment'].value_counts()\n",
    "bars = plt.bar(sentiment_counts.index, sentiment_counts.values, color=['#A6192E', '#5CB8B2'])\n",
    "\n",
    "for bar in bars:\n",
    "    height = bar.get_height()\n",
    "    plt.text(bar.get_x() + bar.get_width()/2., height,\n",
    "             f'{int(height)}',\n",
    "             ha='center', va='bottom')\n",
    "\n",
    "plt.title('Sentiment Distribution', fontsize=14, fontweight='bold')\n",
    "plt.xlabel('Sentiment (0=Negative, 1=Positive)', fontsize=12)\n",
    "plt.ylabel('Count', fontsize=12)\n",
    "plt.xticks([0, 1])\n",
    "plt.tight_layout()\n",
    "plt.show()"
   ]
  },
  {
   "cell_type": "markdown",
   "id": "edf85f5e",
   "metadata": {},
   "source": [
    "The code cell above visualizes the class balance of negative and positive sentiment observations for the full cleaned dataset. The exact values are added above each bar because they are nearly indecipherable at a visual glance."
   ]
  },
  {
   "cell_type": "markdown",
   "id": "06a23bf1",
   "metadata": {},
   "source": [
    "#### Presence of unusual characters"
   ]
  },
  {
   "cell_type": "markdown",
   "id": "26bbc5b8",
   "metadata": {},
   "source": [
    "**Analyze Unusual Characters Before Cleaning**\n",
    "\n",
    "Working definition of unusual characters: Any emojis, non-English characters, non-Unicode characters, punctuation, or control characters"
   ]
  },
  {
   "cell_type": "code",
   "execution_count": 34,
   "id": "8357988d",
   "metadata": {},
   "outputs": [
    {
     "name": "stdout",
     "output_type": "stream",
     "text": [
      "Unusual characters found: None\n",
      "\n",
      "Total punctuation marks: 1908\n"
     ]
    }
   ],
   "source": [
    "import re\n",
    "import string\n",
    "from collections import Counter\n",
    "\n",
    "# Resources:\n",
    "# * [Python RegEx 're' module](https://docs.python.org/3/library/re.html)\n",
    "# * [Python String module](https://docs.python.org/3/library/string.html)\n",
    "\n",
    "# Convert to lowercase\n",
    "df_clean['review_lower'] = df_clean['review'].str.lower()\n",
    "\n",
    "# Check for unusual characters\n",
    "all_text = ' '.join(df_clean['review_lower'])\n",
    "char_frequency = Counter(all_text)\n",
    "\n",
    "# Categorize characters\n",
    "letters = set(string.ascii_lowercase)\n",
    "digits = set(string.digits)\n",
    "punctuation = set(string.punctuation)\n",
    "whitespace = set(string.whitespace)\n",
    "\n",
    "unusual_chars = {char: count for char, count in char_frequency.items()\n",
    "                 if char not in letters and char not in digits\n",
    "                 and char not in punctuation and char not in whitespace}\n",
    "\n",
    "print(\"Unusual characters found:\", unusual_chars if unusual_chars else \"None\")\n",
    "print(f\"\\nTotal punctuation marks: {sum(count for char, count in char_frequency.items() if char in punctuation)}\")"
   ]
  },
  {
   "cell_type": "markdown",
   "id": "93396e7b",
   "metadata": {},
   "source": [
    "The code cell above works to determine all unique characters in the `review` data. It starts by converting all text to lowercase to avoid considering text like \"a\" and \"A\" or \"good\" and \"Good\" as different characters/words.\n",
    "\n",
    "Next, it joins all text into one long string to pass into the `Counter()` method which returns a dictionary-like object with a frequency count representing how many times each character is present in the string.\n",
    "\n",
    "Then we use built-in `string` methods to define the characters we are looking for, and check for any unusual characters in the dataset. There are no unusual characters found in this dataset. The dataset only contains standard English letters, digits, punctuation, and whitespace."
   ]
  },
  {
   "cell_type": "code",
   "execution_count": 8,
   "id": "b025b817",
   "metadata": {},
   "outputs": [
    {
     "name": "stdout",
     "output_type": "stream",
     "text": [
      "Sample cleaned reviews:\n"
     ]
    },
    {
     "data": {
      "text/html": [
       "<div>\n",
       "<style scoped>\n",
       "    .dataframe tbody tr th:only-of-type {\n",
       "        vertical-align: middle;\n",
       "    }\n",
       "\n",
       "    .dataframe tbody tr th {\n",
       "        vertical-align: top;\n",
       "    }\n",
       "\n",
       "    .dataframe thead th {\n",
       "        text-align: right;\n",
       "    }\n",
       "</style>\n",
       "<table border=\"1\" class=\"dataframe\">\n",
       "  <thead>\n",
       "    <tr style=\"text-align: right;\">\n",
       "      <th></th>\n",
       "      <th>review</th>\n",
       "      <th>sentiment</th>\n",
       "    </tr>\n",
       "  </thead>\n",
       "  <tbody>\n",
       "    <tr>\n",
       "      <th>0</th>\n",
       "      <td>so there is no way for me to plug it in here in the us unless i go by a converter</td>\n",
       "      <td>0</td>\n",
       "    </tr>\n",
       "    <tr>\n",
       "      <th>1</th>\n",
       "      <td>good case excellent value</td>\n",
       "      <td>1</td>\n",
       "    </tr>\n",
       "    <tr>\n",
       "      <th>2</th>\n",
       "      <td>great for the jawbone</td>\n",
       "      <td>1</td>\n",
       "    </tr>\n",
       "    <tr>\n",
       "      <th>3</th>\n",
       "      <td>tied to charger for conversations lasting more than minutes major problems</td>\n",
       "      <td>0</td>\n",
       "    </tr>\n",
       "    <tr>\n",
       "      <th>4</th>\n",
       "      <td>the mic is great</td>\n",
       "      <td>1</td>\n",
       "    </tr>\n",
       "  </tbody>\n",
       "</table>\n",
       "</div>"
      ],
      "text/plain": [
       "                                                                              review  \\\n",
       "0  so there is no way for me to plug it in here in the us unless i go by a converter   \n",
       "1                                                          good case excellent value   \n",
       "2                                                              great for the jawbone   \n",
       "3         tied to charger for conversations lasting more than minutes major problems   \n",
       "4                                                                   the mic is great   \n",
       "\n",
       "   sentiment  \n",
       "0          0  \n",
       "1          1  \n",
       "2          1  \n",
       "3          0  \n",
       "4          1  "
      ]
     },
     "execution_count": 8,
     "metadata": {},
     "output_type": "execute_result"
    }
   ],
   "source": [
    "# Clean text: remove punctuation and digits\n",
    "punctuation_pattern = '[' + re.escape(string.punctuation) + ']+'\n",
    "df_clean['review_clean'] = df_clean['review_lower'].str.replace(punctuation_pattern, ' ', regex=True)\n",
    "df_clean['review_clean'] = df_clean['review_clean'].str.replace(r'\\d+', '', regex=True)\n",
    "df_clean['review_clean'] = df_clean['review_clean'].str.split().str.join(' ')\n",
    "\n",
    "# Create final clean dataset\n",
    "df = df_clean[['review_clean', 'sentiment']].copy()\n",
    "df.rename(columns={'review_clean': 'review'}, inplace=True)\n",
    "\n",
    "print(\"Sample cleaned reviews:\")\n",
    "df.head()"
   ]
  },
  {
   "cell_type": "markdown",
   "id": "3964f7dc",
   "metadata": {},
   "source": [
    "This code cleans the text by removing punctuation and digits from the text, using a combination of string methods and regular expressions. This is a standard preprocessing step that helps normalize the text."
   ]
  },
  {
   "cell_type": "markdown",
   "id": "4211999f",
   "metadata": {},
   "source": [
    "#### Vocabulary Size"
   ]
  },
  {
   "cell_type": "code",
   "execution_count": 9,
   "id": "b20133b3",
   "metadata": {},
   "outputs": [
    {
     "name": "stdout",
     "output_type": "stream",
     "text": [
      "Total words (with duplicates): 10,333\n",
      "Vocabulary size (unique words): 1,816\n"
     ]
    }
   ],
   "source": [
    "# Calculate the vocab size of the cleaned reviews\n",
    "def calculate_vocab_size(reviews):\n",
    "    words = [word for review in reviews for word in review.split()]\n",
    "    return len(set(words)), len(words)\n",
    "\n",
    "# Apply calculate_vocab_size function to the cleaned reviews\n",
    "vocab_size, total_words = calculate_vocab_size(df['review'].tolist())\n",
    "print(f\"Total words (with duplicates): {total_words:,}\")\n",
    "print(f\"Vocabulary size (unique words): {vocab_size:,}\")"
   ]
  },
  {
   "cell_type": "markdown",
   "id": "c4b8f526",
   "metadata": {},
   "source": [
    "This function calculates vocabulary statistics by splitting each review into words using Python's built-in `split()` method, which separates text on whitespace. The list comprehension flattens all words from all reviews into a single list. The function then returns two values: the number of unique words (vocabulary size) by converting the list to a set, and the total word count including duplicates."
   ]
  },
  {
   "cell_type": "code",
   "execution_count": 10,
   "id": "4ecd3cbb",
   "metadata": {},
   "outputs": [
    {
     "name": "stdout",
     "output_type": "stream",
     "text": [
      "\n",
      "Top 20 Most Frequent Words:\n",
      "the: 518\n",
      "i: 379\n",
      "it: 311\n",
      "and: 311\n",
      "is: 241\n",
      "a: 217\n",
      "this: 205\n",
      "to: 196\n",
      "phone: 164\n",
      "my: 145\n",
      "of: 120\n",
      "for: 119\n",
      "not: 116\n",
      "with: 112\n",
      "very: 104\n",
      "great: 93\n",
      "was: 90\n",
      "on: 90\n",
      "in: 88\n",
      "that: 82\n"
     ]
    }
   ],
   "source": [
    "# Create list of all words from reviews\n",
    "all_tokens = [word for review in df['review'].tolist() for word in review.split()]\n",
    "\n",
    "# Count word frequencies\n",
    "word_freq = Counter(all_tokens)\n",
    "top_20 = word_freq.most_common(20)\n",
    "\n",
    "print(\"\\nTop 20 Most Frequent Words:\")\n",
    "for word, freq in top_20:\n",
    "    print(f\"{word}: {freq}\")"
   ]
  },
  {
   "cell_type": "markdown",
   "id": "42f1848a",
   "metadata": {},
   "source": [
    "The vocabulary contains 1,816 unique words. The most frequently occurring words include \"the,\" 'i,\" \"it,\" \"and,\" \"is,\" and \"a,\" which are all typical in the English language. I am choosing not to remove stop words because the vocabulary size is already quite small."
   ]
  },
  {
   "cell_type": "code",
   "execution_count": 11,
   "id": "012d014f",
   "metadata": {},
   "outputs": [
    {
     "data": {
      "image/png": "[encoded data removed]",
      "text/plain": [
       "<Figure size 1200x600 with 1 Axes>"
      ]
     },
     "metadata": {},
     "output_type": "display_data"
    }
   ],
   "source": [
    "# Visualize top 20 words\n",
    "words = [word for word, count in top_20]\n",
    "counts = [count for word, count in top_20]\n",
    "\n",
    "plt.figure(figsize=(12, 6))\n",
    "plt.bar(words, counts, color='#CEB888', edgecolor='black', alpha=0.7)\n",
    "plt.xlabel('Words', fontsize=12, fontweight='bold')\n",
    "plt.ylabel('Frequency', fontsize=12, fontweight='bold')\n",
    "plt.title('Top 20 Most Frequent Words in Amazon Reviews', fontsize=14, fontweight='bold')\n",
    "plt.xticks(rotation=45, ha='right')\n",
    "plt.tight_layout()\n",
    "plt.grid(axis='y', alpha=0.3)\n",
    "plt.show()"
   ]
  },
  {
   "cell_type": "markdown",
   "id": "ba91688e",
   "metadata": {},
   "source": [
    "This code visualizes the frequencies of the top 20 most common words used across the dataset."
   ]
  },
  {
   "cell_type": "markdown",
   "id": "28f4ced1",
   "metadata": {},
   "source": [
    "#### Word embedding length"
   ]
  },
  {
   "cell_type": "code",
   "execution_count": 12,
   "id": "c8be7fcb",
   "metadata": {},
   "outputs": [
    {
     "name": "stdout",
     "output_type": "stream",
     "text": [
      "Vocabulary Size: 1,816 unique words\n",
      "Dataset Size: 990 reviews\n",
      "Task Complexity: Binary classification (positive/negative sentiment)\n"
     ]
    }
   ],
   "source": [
    "# Quick check of the vocabulary size from previous sections\n",
    "print(f\"Vocabulary Size: {vocab_size:,} unique words\")\n",
    "print(f\"Dataset Size: {len(df)} reviews\")\n",
    "print(f\"Task Complexity: Binary classification (positive/negative sentiment)\")"
   ]
  },
  {
   "cell_type": "markdown",
   "id": "088aa394",
   "metadata": {},
   "source": [
    "**Proposed Embedding Dimension:** 50\n",
    "\n",
    "**Justification:**\n",
    "\n",
    "I propose an embedding length of **50 dimensions** for this sentiment analysis task. This choice is based on three key factors:\n",
    "\n",
    "1. **Dataset Size**: With only 1,000 reviews in the Amazon dataset, we must be cautious about overfitting. Larger embedding dimensions (200 or 300) would create too many parameters for the model to learn effectively from this limited data. An embedding dimension of 50 provides sufficient representational capacity while keeping the parameter count manageable.\n",
    "\n",
    "2. **Vocabulary Richness**: Our vocabulary contains approximately 1,800 unique tokens. A 50-dimensional embedding space provides adequate capacity to capture meaningful semantic relationships between words without being unnecessarily large. Each word will be represented as a 50-dimensional vector, which is sufficient for distinguishing between sentiment-bearing words in our moderately-sized vocabulary.\n",
    "\n",
    "3. **Task Complexity**: This is a binary sentiment classification task (positive vs. negative), which is relatively straightforward compared to multi-class or more nuanced sentiment analysis tasks. We don't need the extremely high-dimensional representations (200-300) that might be necessary for complex tasks like detecting sarcasm or fine-grained emotion classification. An embedding dimension of 50 strikes the right balance between expressiveness and simplicity.\n",
    "\n",
    "Additionally, 50 dimensions is a widely-used standard in the NLP literature for small-to-medium datasets and has been shown to work effectively for sentiment analysis tasks but the statistics run in the below section indicate 50 may still be too large for this dataset <mark>(Ahmad, 2023, p. 304)</mark>."
   ]
  },
  {
   "cell_type": "markdown",
   "id": "bd39426b",
   "metadata": {},
   "source": [
    "#### Statistical justification for maximum sequence length"
   ]
  },
  {
   "cell_type": "code",
   "execution_count": null,
   "id": "accd46b4",
   "metadata": {},
   "outputs": [
    {
     "name": "stdout",
     "output_type": "stream",
     "text": [
      "Sequence Length Statistics:\n",
      "Mean: 10.44 tokens\n",
      "Median: 9 tokens\n",
      "Maximum: 31 tokens\n",
      "95th percentile: 24 tokens\n"
     ]
    }
   ],
   "source": [
    "from tensorflow.keras.preprocessing.text import text_to_word_sequence\n",
    "\n",
    "# Calculate sequence lengths\n",
    "sequence_lengths = []\n",
    "for review in df['review']:\n",
    "    tokens = text_to_word_sequence(review)\n",
    "    sequence_lengths.append(len(tokens))\n",
    "\n",
    "sequence_lengths = np.array(sequence_lengths)\n",
    "\n",
    "# Calculate statistics\n",
    "mean_length = np.mean(sequence_lengths)\n",
    "median_length = np.median(sequence_lengths)\n",
    "max_length = np.max(sequence_lengths)\n",
    "percentile_95 = np.percentile(sequence_lengths, 95)\n",
    "\n",
    "print(\"Sequence Length Statistics:\")\n",
    "print(f\"Mean: {mean_length:.2f} tokens\")\n",
    "print(f\"Median: {median_length:.0f} tokens\")\n",
    "print(f\"Maximum: {max_length} tokens\")\n",
    "print(f\"95th percentile: {percentile_95:.0f} tokens\")"
   ]
  },
  {
   "cell_type": "markdown",
   "id": "a2f9def1",
   "metadata": {},
   "source": [
    "This code checks for the mean, median, and maximum number of tokens per review, while also looking at the 95th percentile."
   ]
  },
  {
   "cell_type": "code",
   "execution_count": null,
   "id": "cefab881",
   "metadata": {},
   "outputs": [
    {
     "data": {
      "image/png": "[encoded data removed]",
      "text/plain": [
       "<Figure size 1600x600 with 2 Axes>"
      ]
     },
     "metadata": {},
     "output_type": "display_data"
    }
   ],
   "source": [
    "# Visualize sequence length distribution\n",
    "fig, axes = plt.subplots(1, 2, figsize=(16, 6))\n",
    "\n",
    "# Plot Histogram\n",
    "axes[0].hist(sequence_lengths, bins=30, color='#CEB888', edgecolor='black', alpha=0.7)\n",
    "axes[0].axvline(mean_length, color='red', linestyle='--', linewidth=2, label=f'Mean: {mean_length:.1f}')\n",
    "axes[0].axvline(median_length, color='orange', linestyle='--', linewidth=2, label=f'Median: {median_length:.0f}')\n",
    "axes[0].axvline(percentile_95, color='green', linestyle='--', linewidth=2, label=f'95th percentile: {percentile_95:.0f}')\n",
    "axes[0].set_xlabel('Sequence Length (tokens)', fontsize=12, fontweight='bold')\n",
    "axes[0].set_ylabel('Frequency', fontsize=12, fontweight='bold')\n",
    "axes[0].set_title('Distribution of Review Lengths', fontsize=14, fontweight='bold')\n",
    "axes[0].legend()\n",
    "axes[0].grid(axis='y', alpha=0.3)\n",
    "\n",
    "# Plot Boxplot\n",
    "axes[1].boxplot(sequence_lengths, vert=True, patch_artist=True,\n",
    "                boxprops=dict(facecolor='#5CB8B2', color='black'),\n",
    "                medianprops=dict(color='#A6192E', linewidth=2),\n",
    "                whiskerprops=dict(color='black'),\n",
    "                capprops=dict(color='black'))\n",
    "axes[1].axhline(percentile_95, color='green', linestyle='--', linewidth=1.5,\n",
    "                label=f'95th percentile: {percentile_95:.0f}', alpha=0.7)\n",
    "axes[1].set_ylabel('Sequence Length (tokens)', fontsize=12, fontweight='bold')\n",
    "axes[1].set_title('Boxplot of Review Lengths', fontsize=14, fontweight='bold')\n",
    "axes[1].legend()\n",
    "axes[1].grid(axis='y', alpha=0.3)\n",
    "\n",
    "plt.tight_layout()\n",
    "plt.show()"
   ]
  },
  {
   "cell_type": "markdown",
   "id": "87928364",
   "metadata": {},
   "source": [
    "**Analysis of Sequence Lengths:**\n",
    "\n",
    "The distribution of review lengths in the Amazon dataset shows the following characteristics:\n",
    "- **Mean length**: 10.45 tokens\n",
    "- **Median length**: 9 tokens\n",
    "- **95th percentile**: 24 tokens\n",
    "- **Maximum length**: 31 tokens\n",
    "\n",
    "The histogram reveals that most reviews are relatively short and concise, which is typical of Amazon product reviews. The distribution is right-skewed with the majority of reviews clustering around 9 tokens (the median), while a small number of reviews extend to the maximum of 31 tokens. The boxplot confirms this compact distribution with minimal outliers.\n",
    "\n",
    "**Chosen Maximum Sequence Length: 50 tokens**\n",
    "\n",
    "**Justification:**\n",
    "\n",
    "I have selected a maximum sequence length of **50 tokens** based on the following considerations:\n",
    "\n",
    "* **Complete Coverage:** This length captures 100% of all reviews in the dataset. No review would be truncated since the longest review is only 31 tokens.\n",
    "* **Efficiency:** With a mean length of only 10.45 tokens and a median of 9 tokens, most reviews are quite concise. A maximum length of 50 tokens provides complete coverage while remaining highly efficient for the LSTM architecture. Setting the maximum to 100 or higher would require additional computational resources for minimal gain.\n",
    "* **Standard Practice:** A maximum sequence length of 50 tokens is a common, well-established value in NLP that aligns with best practices for sentiment analysis of short-form text like product reviews, social media posts, and customer feedback.\n",
    "* **Padding Considerations:** Reviews shorter than 50 tokens will be padded with zeros. Given that the median length is 9 tokens, the typical review will require approximately 41 padding tokens. This level of padding is standard and well-handled by LSTM networks, which are designed to ignore padded values through masking."
   ]
  },
  {
   "cell_type": "markdown",
   "id": "3dab88ff",
   "metadata": {},
   "source": [
    "### B2. Tokenization"
   ]
  },
  {
   "cell_type": "markdown",
   "id": "f9352de0",
   "metadata": {},
   "source": [
    "**Goals of the Tokenization Process:**\n",
    "\n",
    "Tokenization is the foundational step in preparing text data for natural language processing and sentiment analysis. The primary goals are:\n",
    "\n",
    "1. **Break Text into Manageable Units**: Tokenization splits each review into individual words (tokens), converting continuous text like `\"this product is great\"` into a list of separate words: `[\"this\", \"product\", \"is\", \"great\"]`.\n",
    "\n",
    "2. **Setup for Quantitative Analysis**: By converting text into discrete tokens, we can perform quantitative analysis such as word frequency counts, vocabulary size calculations, and statistical distributions - all of which inform our model design decisions.\n",
    "\n",
    "3. **Standardize Text Processing**: Tokenization provides a consistent method for processing all reviews, ensuring that each piece of text is broken down using the same rules and logic.\n",
    "\n",
    "4. **Prepare for Vocabulary Building**: The tokens serve as the basis for constructing our vocabulary (word index), which will later be used to convert words to numeric representations for the neural network.\n",
    "\n",
    "5. **Apply Lemmatization:** The tokens are broken down into their base form, allowing different forms of a word to be treated as the same base word."
   ]
  },
  {
   "cell_type": "code",
   "execution_count": null,
   "id": "16fabc18",
   "metadata": {},
   "outputs": [
    {
     "name": "stdout",
     "output_type": "stream",
     "text": [
      "Processed 990 reviews\n",
      "\n",
      "Sample Output:\n"
     ]
    },
    {
     "data": {
      "text/html": [
       "<div>\n",
       "<style scoped>\n",
       "    .dataframe tbody tr th:only-of-type {\n",
       "        vertical-align: middle;\n",
       "    }\n",
       "\n",
       "    .dataframe tbody tr th {\n",
       "        vertical-align: top;\n",
       "    }\n",
       "\n",
       "    .dataframe thead th {\n",
       "        text-align: right;\n",
       "    }\n",
       "</style>\n",
       "<table border=\"1\" class=\"dataframe\">\n",
       "  <thead>\n",
       "    <tr style=\"text-align: right;\">\n",
       "      <th></th>\n",
       "      <th>review</th>\n",
       "      <th>tokens</th>\n",
       "      <th>review_processed</th>\n",
       "    </tr>\n",
       "  </thead>\n",
       "  <tbody>\n",
       "    <tr>\n",
       "      <th>0</th>\n",
       "      <td>so there is no way for me to plug it in here in the us unless i go by a converter</td>\n",
       "      <td>[so, there, is, no, way, for, me, to, plug, it, in, here, in, the, us, unless, i, go, by, a, con...</td>\n",
       "      <td>so there is no way for me to plug it in here in the us unless i go by a converter</td>\n",
       "    </tr>\n",
       "    <tr>\n",
       "      <th>1</th>\n",
       "      <td>good case excellent value</td>\n",
       "      <td>[good, case, excellent, value]</td>\n",
       "      <td>good case excellent value</td>\n",
       "    </tr>\n",
       "    <tr>\n",
       "      <th>2</th>\n",
       "      <td>great for the jawbone</td>\n",
       "      <td>[great, for, the, jawbone]</td>\n",
       "      <td>great for the jawbone</td>\n",
       "    </tr>\n",
       "  </tbody>\n",
       "</table>\n",
       "</div>"
      ],
      "text/plain": [
       "                                                                              review  \\\n",
       "0  so there is no way for me to plug it in here in the us unless i go by a converter   \n",
       "1                                                          good case excellent value   \n",
       "2                                                              great for the jawbone   \n",
       "\n",
       "                                                                                                tokens  \\\n",
       "0  [so, there, is, no, way, for, me, to, plug, it, in, here, in, the, us, unless, i, go, by, a, con...   \n",
       "1                                                                       [good, case, excellent, value]   \n",
       "2                                                                           [great, for, the, jawbone]   \n",
       "\n",
       "                                                                    review_processed  \n",
       "0  so there is no way for me to plug it in here in the us unless i go by a converter  \n",
       "1                                                          good case excellent value  \n",
       "2                                                              great for the jawbone  "
      ]
     },
     "execution_count": 23,
     "metadata": {},
     "output_type": "execute_result"
    }
   ],
   "source": [
    "from tensorflow.keras.preprocessing.text import text_to_word_sequence\n",
    "\n",
    "def clean_and_tokenize(text):\n",
    "    \"\"\"\n",
    "    Clean and tokenize text.\n",
    "    \"\"\"\n",
    "    # Convert to lowercase (already done, but ensuring consistency)\n",
    "    text = text.lower()\n",
    "\n",
    "    # Tokenize words using TensorFlow\n",
    "    tokens = text_to_word_sequence(text)\n",
    "\n",
    "    return tokens\n",
    "\n",
    "# Apply tokenization to dataset\n",
    "df[\"tokens\"] = df[\"review\"].apply(clean_and_tokenize)\n",
    "df[\"review_processed\"] = df[\"tokens\"].apply(lambda x: ' '.join(x))\n",
    "\n",
    "print(f\"Processed {len(df)} reviews\")\n",
    "print(\"\\nSample Output:\")\n",
    "df[[\"review\", \"tokens\", \"review_processed\"]].head(3)"
   ]
  },
  {
   "cell_type": "markdown",
   "id": "08eb1825",
   "metadata": {},
   "source": [
    "Using TensorFlow's `text_to_word_sequence`, I successfully processed all 990 Amazon reviews through a tokenization pipeline. This function handles basic text cleaning like converting to lowercase and removing punctuation before splitting the text into individual tokens. Lemmatization was not performed; instead I will rely on the model's embedding layer to learn the relationships between different forms of a word (e.g., \"phone\" and \"phones\"). Stop words were also retained based on the very small size of the dataset."
   ]
  },
  {
   "cell_type": "code",
   "execution_count": 24,
   "id": "d71a3f3c",
   "metadata": {},
   "outputs": [
    {
     "name": "stdout",
     "output_type": "stream",
     "text": [
      "\n",
      "Vocabulary Statistics:\n",
      "Total tokens: 10,333\n",
      "Unique tokens: 1,816\n"
     ]
    }
   ],
   "source": [
    "# Vocabulary statistics after tokenization\n",
    "all_tokens = [token for tokens_list in df[\"tokens\"] for token in tokens_list]\n",
    "vocab_size = len(set(all_tokens))\n",
    "\n",
    "print(f\"\\nVocabulary Statistics:\")\n",
    "print(f\"Total tokens: {len(all_tokens):,}\")\n",
    "print(f\"Unique tokens: {vocab_size:,}\")"
   ]
  },
  {
   "cell_type": "markdown",
   "id": "8b3719cd",
   "metadata": {},
   "source": [
    "**Key Results:**\n",
    "\n",
    "* **Consistent Tokenization:** The TensorFlow tokenizer provides a standardized way to break down the reviews into words.\n",
    "\n",
    "* **Vocabulary Size:** The resulting vocabulary consists of 1,816 unique words. This is slightly larger than it would be with lemmatization, but the embedding layer is well-suited to handle these variations."
   ]
  },
  {
   "cell_type": "markdown",
   "id": "ea373b4d",
   "metadata": {},
   "source": [
    "### B3. Padding Process"
   ]
  },
  {
   "cell_type": "markdown",
   "id": "36d807de",
   "metadata": {},
   "source": [
    "Before we can apply padding, we must first convert our text into numeric sequences. Neural networks cannot process text directly, they require numeric input. So this section will cover both vectorization (the text-to-numbers conversion) and padding.\n",
    "\n",
    "**Vectorization**"
   ]
  },
  {
   "cell_type": "code",
   "execution_count": 25,
   "id": "e313025e",
   "metadata": {},
   "outputs": [
    {
     "name": "stdout",
     "output_type": "stream",
     "text": [
      "Vocabulary built: 1,817 unique words\n",
      "Converted 990 reviews to numeric sequences\n"
     ]
    }
   ],
   "source": [
    "from tensorflow.keras.preprocessing.text import Tokenizer\n",
    "from tensorflow.keras.preprocessing.sequence import pad_sequences\n",
    "\n",
    "# Initialize Keras Tokenizer\n",
    "tokenizer = Tokenizer(\n",
    "    num_words=None,     # Use all words, no vocabulary limit\n",
    "    oov_token='<OOV>',  # Out-of-vocabulary token\n",
    "    lower=False         # Already lowercased during cleaning\n",
    ")\n",
    "\n",
    "# Fit tokenizer on processed text\n",
    "tokenizer.fit_on_texts(df['review_processed'])\n",
    "\n",
    "# Get vocabulary information\n",
    "word_index = tokenizer.word_index\n",
    "vocab_size = len(word_index)\n",
    "print(f\"Vocabulary built: {vocab_size:,} unique words\")\n",
    "\n",
    "# Convert text to sequences\n",
    "sequences = tokenizer.texts_to_sequences(df['review_processed'])\n",
    "print(f\"Converted {len(sequences):,} reviews to numeric sequences\")"
   ]
  },
  {
   "cell_type": "code",
   "execution_count": 26,
   "id": "8582e55d",
   "metadata": {},
   "outputs": [
    {
     "name": "stdout",
     "output_type": "stream",
     "text": [
      "Example Conversion:\n",
      "============================================================\n",
      "Original text: 'i have to jiggle the plug to get it to line up right to get decent volume'\n",
      "Tokens: ['i', 'have', 'to', 'jiggle', 'the', 'plug', 'to', 'get', 'it', 'to', 'line', 'up', 'right', 'to', 'get', 'decent', 'volume']\n",
      "Numeric sequence: [3, 24, 9, 804, 2, 156, 9, 72, 4, 9, 272, 56, 147, 9, 72, 337, 148]\n",
      "Sequence length: 17 tokens\n"
     ]
    }
   ],
   "source": [
    "# Show example conversion\n",
    "example_idx = 5\n",
    "print(f\"Example Conversion:\")\n",
    "print(\"=\" * 60)\n",
    "print(f\"Original text: '{df['review_processed'].iloc[example_idx]}'\")\n",
    "print(f\"Tokens: {df['tokens'].iloc[example_idx]}\")\n",
    "print(f\"Numeric sequence: {sequences[example_idx]}\")\n",
    "print(f\"Sequence length: {len(sequences[example_idx])} tokens\")"
   ]
  },
  {
   "cell_type": "markdown",
   "id": "eb315f03",
   "metadata": {},
   "source": [
    "Vectorization is the process of converting text tokens into sequences of integers. Each unique word in our vocabulary is assigned a unique integer index, and reviews are represented as sequences of these indices.\n",
    "\n",
    "I used Keras `Tokenizer` from TensorFlow to perform the conversion. The tokenizer builds a vocabulary index (word-to-integer mapping), converts each review into a sequence of integers, and handles out-of-vocabulary (OOV) words. OOV refers to words that may find themselves in the validation or testing dataset that were never present in the training data when the model was trained. So these words may be brand new to the model.\n",
    "\n",
    "**Padding**"
   ]
  },
  {
   "cell_type": "code",
   "execution_count": 27,
   "id": "28773fda",
   "metadata": {},
   "outputs": [
    {
     "name": "stdout",
     "output_type": "stream",
     "text": [
      "Padded Sequences Shape: (990, 50)\n",
      "Number of reviews: 990\n",
      "Sequence length: 50\n"
     ]
    }
   ],
   "source": [
    "# Define maximum sequence length (from Part B1 analysis)\n",
    "max_sequence_length = 50\n",
    "\n",
    "# Apply padding\n",
    "padded_sequences = pad_sequences(\n",
    "    sequences,\n",
    "    maxlen=max_sequence_length,\n",
    "    padding='post',     # Add zeros to the end of sequences\n",
    "    truncating='post',  # Truncate from the end if too long\n",
    "    value=0             # Use 0 as padding value\n",
    ")\n",
    "\n",
    "print(f\"Padded Sequences Shape: {padded_sequences.shape}\")\n",
    "print(f\"Number of reviews: {padded_sequences.shape[0]:,}\")\n",
    "print(f\"Sequence length: {padded_sequences.shape[1]}\")"
   ]
  },
  {
   "cell_type": "code",
   "execution_count": 28,
   "id": "009b9b52",
   "metadata": {},
   "outputs": [
    {
     "name": "stdout",
     "output_type": "stream",
     "text": [
      "Example: Padded Sequence\n",
      "============================================================\n",
      "Original text: 'i have to jiggle the plug to get it to line up right to get decent volume'\n",
      "\n",
      "Original sequence (length 17):\n",
      "[3, 24, 9, 804, 2, 156, 9, 72, 4, 9, 272, 56, 147, 9, 72, 337, 148]\n",
      "\n",
      "Padded sequence (length 50):\n",
      "[  3  24   9 804   2 156   9  72   4   9 272  56 147   9  72 337 148   0\n",
      "   0   0   0   0   0   0   0   0   0   0   0   0   0   0   0   0   0   0\n",
      "   0   0   0   0   0   0   0   0   0   0   0   0   0   0]\n",
      "\n",
      "Explanation: 33 zeros added at the end\n"
     ]
    }
   ],
   "source": [
    "# Example: Short sequence requiring padding\n",
    "short_idx = 5\n",
    "print(\"Example: Padded Sequence\")\n",
    "print(\"=\" * 60)\n",
    "print(f\"Original text: '{df['review_processed'].iloc[short_idx]}'\")\n",
    "print(f\"\\nOriginal sequence (length {len(sequences[short_idx])}):\")\n",
    "print(sequences[short_idx])\n",
    "print(f\"\\nPadded sequence (length {max_sequence_length}):\")\n",
    "print(padded_sequences[short_idx])\n",
    "print(f\"\\nExplanation: {max_sequence_length - len(sequences[short_idx])} zeros added at the end\")"
   ]
  },
  {
   "cell_type": "markdown",
   "id": "70840f18",
   "metadata": {},
   "source": [
    "Padding is the process of standardizing all sequences to be the same length by adding zeros to sequences that are shorter than the specified maximum length. Neural networks like LSTMs require fixed-size inputs, and our reviews vary in length, so padding ensures uniform input size.\n",
    "\n",
    "I chose to use \"post-padding\", which adds zeros at the end of sequences that are shorter than the maximum length for the following reasons:\n",
    "\n",
    "* **Natural Language Flow:** In sentiment analysis, the beginning of a review often contains the most important sentiment information. Post-padding preserves the natural left-to-right flow of the language without inserting artificial zeros before the actual content or truncating early parts of the review if a review surpasses the maximum length. English is a left-to-right language, so \"pre-padding\" might be better used for a right-to-left language like Farsi or Arabic.\n",
    "* **LSTM Compatibility:** LSTMs process sequences from left to right. Post-padding allows the LSTM to process all actual words before encountering padding, making it easier for the network to learn meaningful patterns.\n",
    "\n",
    "**Padding Parameters:**\n",
    "\n",
    "* `maxlen=50`: Maximum sequence length (determined in Part **B1**)\n",
    "* `padding='post'`: Add zeros at the end of sequences until `maxlen` is reached\n",
    "* `truncating='post`: If a sequence exceeds `maxlen`, tokens are removed from the end until the maximum length is reached\n",
    "* `value=0`: Use 0 as the padding value"
   ]
  },
  {
   "cell_type": "code",
   "execution_count": 29,
   "id": "39c91350",
   "metadata": {},
   "outputs": [
    {
     "name": "stdout",
     "output_type": "stream",
     "text": [
      "\n",
      "Final Data Shape:\n",
      "Features (X): (990, 50)\n",
      "Labels (y): (990,)\n"
     ]
    }
   ],
   "source": [
    "# Store padded sequences\n",
    "X = padded_sequences\n",
    "y = df['sentiment'].values\n",
    "\n",
    "print(f\"\\nFinal Data Shape:\")\n",
    "print(f\"Features (X): {X.shape}\")\n",
    "print(f\"Labels (y): {y.shape}\")"
   ]
  },
  {
   "cell_type": "markdown",
   "id": "127075b0",
   "metadata": {},
   "source": [
    "This code stores the full padded sequences with reviews as the X values and sentiment as the y values."
   ]
  },
  {
   "cell_type": "markdown",
   "id": "a7fa2da1",
   "metadata": {},
   "source": [
    "### B4. Categories of Sentiment"
   ]
  },
  {
   "cell_type": "markdown",
   "id": "d9771fdf",
   "metadata": {},
   "source": [
    "This analysis uses **2 categories of sentiment:**\n",
    "\n",
    "* **0:** Negative sentiment\n",
    "* **1:** Positive sentiment\n",
    "\n",
    "This is a **binary classification** problem. For binary classification, the most appropriate activation function for the final dense layer is **sigmoid** because it outputs a value between 0 and 1, which can be interpreted as the probability that the review is negative. Typically, a threshold of greater than or equal to 0.5 is classified as positive (1), otherwise it's classified as negative (0)."
   ]
  },
  {
   "cell_type": "markdown",
   "id": "80231ac4",
   "metadata": {},
   "source": [
    "### B5. Steps to Prepare the Data"
   ]
  },
  {
   "cell_type": "code",
   "execution_count": 31,
   "id": "a70dedc5",
   "metadata": {},
   "outputs": [
    {
     "name": "stdout",
     "output_type": "stream",
     "text": [
      "Dataset Split:\n",
      "Training set: 693 samples (70.0%)\n",
      "Validation set: 148 samples (14.9%)\n",
      "Test set: 149 samples (15.1%)\n",
      "\n",
      "Class distribution:\n",
      "Training - Negative: 348, Positive: 345\n",
      "Validation - Negative: 74, Positive: 74\n",
      "Test - Negative: 75, Positive: 74\n"
     ]
    }
   ],
   "source": [
    "from sklearn.model_selection import train_test_split\n",
    "# First split: Separate train split (70%)\n",
    "X_train, X_temp, y_train, y_temp = train_test_split(\n",
    "    X, y, test_size=0.3, random_state=42, stratify=y\n",
    ")\n",
    "\n",
    "# Second split: Separate remaining data into validation and test split\n",
    "X_val, X_test, y_val, y_test = train_test_split(\n",
    "    X_temp, y_temp, test_size=0.5, random_state=42, stratify=y_temp\n",
    ")\n",
    "\n",
    "print(\"Dataset Split:\")\n",
    "print(f\"Training set: {len(X_train)} samples ({len(X_train) / len(X) * 100:.1f}%)\")\n",
    "print(f\"Validation set: {len(X_val)} samples ({len(X_val) / len(X) * 100:.1f}%)\")\n",
    "print(f\"Test set: {len(X_test)} samples ({len(X_test) / len(X) * 100:.1f}%)\")\n",
    "\n",
    "print(\"\\nClass distribution:\")\n",
    "print(f\"Training - Negative: {sum(y_train==0)}, Positive: {sum(y_train==1)}\")\n",
    "print(f\"Validation - Negative: {sum(y_val==0)}, Positive: {sum(y_val==1)}\")\n",
    "print(f\"Test - Negative: {sum(y_test==0)}, Positive: {sum(y_test==1)}\")"
   ]
  },
  {
   "cell_type": "markdown",
   "id": "a6631d88",
   "metadata": {},
   "source": [
    "Now that the data is cleaned and tokenized, I used the code above to split the dataset into three sets: training, validation, and test. I chose a split of 70/15/15, which is a fairly typical option within industry standards.\n",
    "\n",
    "* **Training set:** 70%\n",
    "* **Validation set:** 15%\n",
    "* **Testing set:** 15%\n",
    "\n",
    "In addition, I stratified the split to ensure that both positive and negative sentiments are proportionally represented in all three sets."
   ]
  },
  {
   "cell_type": "markdown",
   "id": "ff25c455",
   "metadata": {},
   "source": [
    "### B6. Prepared Dataset"
   ]
  },
  {
   "cell_type": "code",
   "execution_count": 32,
   "id": "26bd2a35",
   "metadata": {},
   "outputs": [
    {
     "name": "stdout",
     "output_type": "stream",
     "text": [
      "Saved train, validation, and test sets as CSV files.\n"
     ]
    }
   ],
   "source": [
    "# Save the train, validation, and test splits as CSV files\n",
    "# Convert padded sequences back to DataFrames with sentiment labels\n",
    "train_df = pd.DataFrame(X_train)\n",
    "train_df['sentiment'] = y_train\n",
    "train_df.to_csv('train.csv', index=False)\n",
    "\n",
    "val_df = pd.DataFrame(X_val)\n",
    "val_df['sentiment'] = y_val\n",
    "val_df.to_csv('validation.csv', index=False)\n",
    "\n",
    "test_df = pd.DataFrame(X_test)\n",
    "test_df['sentiment'] = y_test\n",
    "test_df.to_csv('test.csv', index=False)\n",
    "\n",
    "print(\"Saved train, validation, and test sets as CSV files.\")"
   ]
  },
  {
   "cell_type": "markdown",
   "id": "a7e0d17a",
   "metadata": {},
   "source": [
    "This code converts all data back to DataFrames for easy export to CSV files. We now have CSV files for training, validation, and testing data that preserves the tokenization and padding."
   ]
  },
  {
   "cell_type": "markdown",
   "id": "31fad661",
   "metadata": {},
   "source": [
    "## C. Network Architecture"
   ]
  },
  {
   "cell_type": "markdown",
   "id": "8261d872",
   "metadata": {},
   "source": [
    "### C1. Model Summary"
   ]
  },
  {
   "cell_type": "code",
   "execution_count": 33,
   "id": "6042bfe2",
   "metadata": {},
   "outputs": [
    {
     "data": {
      "text/html": [
       "<pre style=\"white-space:pre;overflow-x:auto;line-height:normal;font-family:Menlo,'DejaVu Sans Mono',consolas,'Courier New',monospace\"><span style=\"font-weight: bold\">Model: \"sequential\"</span>\n",
       "</pre>\n"
      ],
      "text/plain": [
       "\u001b[1mModel: \"sequential\"\u001b[0m\n"
      ]
     },
     "metadata": {},
     "output_type": "display_data"
    },
    {
     "data": {
      "text/html": [
       "<pre style=\"white-space:pre;overflow-x:auto;line-height:normal;font-family:Menlo,'DejaVu Sans Mono',consolas,'Courier New',monospace\">┏━━━━━━━━━━━━━━━━━━━━━━━━━━━━━━━━━┳━━━━━━━━━━━━━━━━━━━━━━━━┳━━━━━━━━━━━━━━━┓\n",
       "┃<span style=\"font-weight: bold\"> Layer (type)                    </span>┃<span style=\"font-weight: bold\"> Output Shape           </span>┃<span style=\"font-weight: bold\">       Param # </span>┃\n",
       "┡━━━━━━━━━━━━━━━━━━━━━━━━━━━━━━━━━╇━━━━━━━━━━━━━━━━━━━━━━━━╇━━━━━━━━━━━━━━━┩\n",
       "│ embedding (<span style=\"color: #0087ff; text-decoration-color: #0087ff\">Embedding</span>)           │ (<span style=\"color: #00d7ff; text-decoration-color: #00d7ff\">None</span>, <span style=\"color: #00af00; text-decoration-color: #00af00\">50</span>, <span style=\"color: #00af00; text-decoration-color: #00af00\">50</span>)         │        <span style=\"color: #00af00; text-decoration-color: #00af00\">90,900</span> │\n",
       "├─────────────────────────────────┼────────────────────────┼───────────────┤\n",
       "│ lstm (<span style=\"color: #0087ff; text-decoration-color: #0087ff\">LSTM</span>)                     │ (<span style=\"color: #00d7ff; text-decoration-color: #00d7ff\">None</span>, <span style=\"color: #00af00; text-decoration-color: #00af00\">64</span>)             │        <span style=\"color: #00af00; text-decoration-color: #00af00\">29,440</span> │\n",
       "├─────────────────────────────────┼────────────────────────┼───────────────┤\n",
       "│ dropout (<span style=\"color: #0087ff; text-decoration-color: #0087ff\">Dropout</span>)               │ (<span style=\"color: #00d7ff; text-decoration-color: #00d7ff\">None</span>, <span style=\"color: #00af00; text-decoration-color: #00af00\">64</span>)             │             <span style=\"color: #00af00; text-decoration-color: #00af00\">0</span> │\n",
       "├─────────────────────────────────┼────────────────────────┼───────────────┤\n",
       "│ dense (<span style=\"color: #0087ff; text-decoration-color: #0087ff\">Dense</span>)                   │ (<span style=\"color: #00d7ff; text-decoration-color: #00d7ff\">None</span>, <span style=\"color: #00af00; text-decoration-color: #00af00\">1</span>)              │            <span style=\"color: #00af00; text-decoration-color: #00af00\">65</span> │\n",
       "└─────────────────────────────────┴────────────────────────┴───────────────┘\n",
       "</pre>\n"
      ],
      "text/plain": [
       "┏━━━━━━━━━━━━━━━━━━━━━━━━━━━━━━━━━┳━━━━━━━━━━━━━━━━━━━━━━━━┳━━━━━━━━━━━━━━━┓\n",
       "┃\u001b[1m \u001b[0m\u001b[1mLayer (type)                   \u001b[0m\u001b[1m \u001b[0m┃\u001b[1m \u001b[0m\u001b[1mOutput Shape          \u001b[0m\u001b[1m \u001b[0m┃\u001b[1m \u001b[0m\u001b[1m      Param #\u001b[0m\u001b[1m \u001b[0m┃\n",
       "┡━━━━━━━━━━━━━━━━━━━━━━━━━━━━━━━━━╇━━━━━━━━━━━━━━━━━━━━━━━━╇━━━━━━━━━━━━━━━┩\n",
       "│ embedding (\u001b[38;5;33mEmbedding\u001b[0m)           │ (\u001b[38;5;45mNone\u001b[0m, \u001b[38;5;34m50\u001b[0m, \u001b[38;5;34m50\u001b[0m)         │        \u001b[38;5;34m90,900\u001b[0m │\n",
       "├─────────────────────────────────┼────────────────────────┼───────────────┤\n",
       "│ lstm (\u001b[38;5;33mLSTM\u001b[0m)                     │ (\u001b[38;5;45mNone\u001b[0m, \u001b[38;5;34m64\u001b[0m)             │        \u001b[38;5;34m29,440\u001b[0m │\n",
       "├─────────────────────────────────┼────────────────────────┼───────────────┤\n",
       "│ dropout (\u001b[38;5;33mDropout\u001b[0m)               │ (\u001b[38;5;45mNone\u001b[0m, \u001b[38;5;34m64\u001b[0m)             │             \u001b[38;5;34m0\u001b[0m │\n",
       "├─────────────────────────────────┼────────────────────────┼───────────────┤\n",
       "│ dense (\u001b[38;5;33mDense\u001b[0m)                   │ (\u001b[38;5;45mNone\u001b[0m, \u001b[38;5;34m1\u001b[0m)              │            \u001b[38;5;34m65\u001b[0m │\n",
       "└─────────────────────────────────┴────────────────────────┴───────────────┘\n"
      ]
     },
     "metadata": {},
     "output_type": "display_data"
    },
    {
     "data": {
      "text/html": [
       "<pre style=\"white-space:pre;overflow-x:auto;line-height:normal;font-family:Menlo,'DejaVu Sans Mono',consolas,'Courier New',monospace\"><span style=\"font-weight: bold\"> Total params: </span><span style=\"color: #00af00; text-decoration-color: #00af00\">120,405</span> (470.33 KB)\n",
       "</pre>\n"
      ],
      "text/plain": [
       "\u001b[1m Total params: \u001b[0m\u001b[38;5;34m120,405\u001b[0m (470.33 KB)\n"
      ]
     },
     "metadata": {},
     "output_type": "display_data"
    },
    {
     "data": {
      "text/html": [
       "<pre style=\"white-space:pre;overflow-x:auto;line-height:normal;font-family:Menlo,'DejaVu Sans Mono',consolas,'Courier New',monospace\"><span style=\"font-weight: bold\"> Trainable params: </span><span style=\"color: #00af00; text-decoration-color: #00af00\">120,405</span> (470.33 KB)\n",
       "</pre>\n"
      ],
      "text/plain": [
       "\u001b[1m Trainable params: \u001b[0m\u001b[38;5;34m120,405\u001b[0m (470.33 KB)\n"
      ]
     },
     "metadata": {},
     "output_type": "display_data"
    },
    {
     "data": {
      "text/html": [
       "<pre style=\"white-space:pre;overflow-x:auto;line-height:normal;font-family:Menlo,'DejaVu Sans Mono',consolas,'Courier New',monospace\"><span style=\"font-weight: bold\"> Non-trainable params: </span><span style=\"color: #00af00; text-decoration-color: #00af00\">0</span> (0.00 B)\n",
       "</pre>\n"
      ],
      "text/plain": [
       "\u001b[1m Non-trainable params: \u001b[0m\u001b[38;5;34m0\u001b[0m (0.00 B)\n"
      ]
     },
     "metadata": {},
     "output_type": "display_data"
    },
    {
     "name": "stdout",
     "output_type": "stream",
     "text": [
      "None\n"
     ]
    }
   ],
   "source": [
    "import tensorflow as tf\n",
    "from tensorflow.keras.models import Sequential\n",
    "from tensorflow.keras.layers import Embedding, LSTM, Dense, Dropout\n",
    "\n",
    "# Build the model\n",
    "model = Sequential([\n",
    "    Embedding(input_dim=vocab_size + 1,\n",
    "              output_dim=50,\n",
    "              mask_zero=True),\n",
    "    LSTM(64, return_sequences=False),\n",
    "    Dropout(0.5),\n",
    "    Dense(1, activation='sigmoid')\n",
    "])\n",
    "\n",
    "# Build the model with input shape to initialize parameters\n",
    "model.build(input_shape=(None, max_sequence_length))\n",
    "\n",
    "# Compile the model\n",
    "model.compile(\n",
    "    optimizer='adam',\n",
    "    loss='binary_crossentropy',\n",
    "    metrics=['accuracy']\n",
    ")\n",
    "\n",
    "# Display model summary\n",
    "print(model.summary())"
   ]
  },
  {
   "cell_type": "markdown",
   "id": "be9ea3cd",
   "metadata": {},
   "source": [
    "### C2. Network Architecture"
   ]
  },
  {
   "cell_type": "markdown",
   "id": "2217b6ed",
   "metadata": {},
   "source": [
    "The neural network consists of **4 layers:**\n",
    "\n",
    "1. **Embedding Layer (84,500 parameters)**\n",
    "  * Converts integer word indices into dense 50-dimensional vectors\n",
    "  * Input dimension: 1,690 (vocabulary size + 1 padding/OOV token)\n",
    "  * Output dimension: 50\n",
    "  * Input length: 50 tokens\n",
    "  * Mask zero: True (ignores padding tokens during training)\n",
    "\n",
    "2. **LSTM Layer (29,440 parameters)**\n",
    "  * 64 LSTM units\n",
    "  * Processes the sequence and captures temporal dependencies\n",
    "  * Returns only the final hidden state (`return_sequences=False)`\n",
    "\n",
    "3. **Dropout Layer (0 parameters)**\n",
    "  * Dropout rate: 50%\n",
    "  * Randomly drops connections during training to prevent overfitting, particularly given that this dataset is small\n",
    "\n",
    "4. **Dense Output Layer (65 parameters)**\n",
    "  * 1 neuron with sigmoid activation\n",
    "  * Outputs probability of positive sentiment (0 to 1)\n",
    "\n",
    "**Total Parameters: 114,005**\n",
    "\n",
    "The majority of parameters (74%) are in the embedding layer, which learns word representations. The LSTM layer accounts for 26% of parameters and is responsible for understanding sequential patterns in the text <mark>(Bourke, 2025)</mark>."
   ]
  },
  {
   "cell_type": "markdown",
   "id": "e7fa0470",
   "metadata": {},
   "source": [
    "### C3. Hyperparameters"
   ]
  },
  {
   "cell_type": "code",
   "execution_count": 35,
   "id": "beffb2fe",
   "metadata": {},
   "outputs": [],
   "source": [
    "from tensorflow.keras.callbacks import EarlyStopping\n",
    "\n",
    "# Compile the model\n",
    "model.compile(\n",
    "    optimizer='adam',\n",
    "    loss='binary_crossentropy',\n",
    "    metrics=['accuracy']\n",
    ")\n",
    "\n",
    "early_stopping = EarlyStopping(\n",
    "    monitor='val_loss',\n",
    "    patience=5,\n",
    "    restore_best_weights=True\n",
    ")"
   ]
  },
  {
   "cell_type": "markdown",
   "id": "1434a53d",
   "metadata": {},
   "source": [
    "#### Activation function"
   ]
  },
  {
   "cell_type": "markdown",
   "id": "348bebd2",
   "metadata": {},
   "source": [
    "For the final dense layer, I used the **sigmoid** activation function. This choice is optimal for binary classification tasks, such as determining sentiment as either positive or negative, because it outputs a probability between 0 and 1. This output effectively quantifies the likelihood of a positive review, thereby facilitating a clear distinction between positive and negative sentiments.\n",
    "\n",
    "When the output is greater than or equal to 0.5, we classify the review as positive (1); otherwise, we classify it as negative (0). This probabilistic interpretation also provides confidence scores for predictions, which can be valuable for business applications where we may want to flag uncertain predictions for human review."
   ]
  },
  {
   "cell_type": "markdown",
   "id": "1044ef95",
   "metadata": {},
   "source": [
    "#### Number of nodes per layer"
   ]
  },
  {
   "cell_type": "markdown",
   "id": "8516dbb4",
   "metadata": {},
   "source": [
    "The **embedding layer** uses **50 dimensions** to represent each word as a dense vector. This choice was justified in Part **B1. Data Preparation**. In summary, 50 dimensions provide enough capacity for our vocabulary of approximately 1,690 words, while avoiding the risk of overfitting that would come with larger embeddings on a limited dataset of 990 reviews.\n",
    "\n",
    "The **LSTM layer** contains **64 units**, again providing enough capacity to capture sequence patterns and context while reducing the risk of overfitting.\n",
    "\n",
    "The **dropout layer** is set to a rate of **0.5 (50%)**. During training, it randomly sets 50% of the input units to 0 at each update. This forces the network to learn redundant representations and prevents it from becoming too reliant on any single neuron, which is a very effective technique for avoiding overfitting <mark>(Bourke, 2025)</mark>.\n",
    "\n",
    "The **output layer** has only **1 neuron**, which works along with the sigmoid activation function, to produce a single probability value representing the likelihood of positive sentiment."
   ]
  },
  {
   "cell_type": "markdown",
   "id": "4b214ad6",
   "metadata": {},
   "source": [
    "#### Loss function"
   ]
  },
  {
   "cell_type": "markdown",
   "id": "58a68e1b",
   "metadata": {},
   "source": [
    "I chose **binary crossentropy** as the loss function for this model. It is the standard choice for binary classification problems. It measures the difference between the predicted probability distribution and the true distribution. The loss is minimized when the model's predictions closely match the true labels, gives a higher penalty when the prediction is far from the truth, and works well with the sigmoid activation in the output layer."
   ]
  },
  {
   "cell_type": "markdown",
   "id": "859f2b97",
   "metadata": {},
   "source": [
    "#### Optimizer"
   ]
  },
  {
   "cell_type": "markdown",
   "id": "2f3f3565",
   "metadata": {},
   "source": [
    "I chose to use the **Adam (Adaptive Movement Estimation)** optimizer with its default learning rate of 0.001 because it's widely used with LSTM models and combines the advantages of two other popular optimizers. The key benefit of Adam is that it automatically adapts the learning rate for each parameter individually during training and minimizes the amount of manual tuning necessary."
   ]
  },
  {
   "cell_type": "markdown",
   "id": "3628b1d6",
   "metadata": {},
   "source": [
    "#### Stopping criteria"
   ]
  },
  {
   "cell_type": "markdown",
   "id": "7ae20718",
   "metadata": {},
   "source": [
    "I implemented **early stopping** to prevent overfitting and ensure sufficient training. The early stopping callback monitors the validation loss and halts training when this metric stops improving, indicating the model has reached its optimal performance on unseen data.\n",
    "\n",
    "I configured early stopping with a `patience` of **5 epochs**, meaning training continues as long as validation loss improves, but stops if no loss improvement occurs for 5 consecutive epochs. The callback is set to `restore_best_weights=True`, ensuring we use the optimal version of the model.\n",
    "\n",
    "If the model learns early on, this early stopping criteria prevents continued use of computation power for limited-or-no gain. With a dataset of only 990 reviews total, we have to take these intentional efforts to prevent overfitting of the training data."
   ]
  },
  {
   "cell_type": "markdown",
   "id": "34fcd7e2",
   "metadata": {},
   "source": [
    "## D. Neural Network Model Evaluation"
   ]
  },
  {
   "cell_type": "markdown",
   "id": "0eeb855e",
   "metadata": {},
   "source": [
    "### D1. Stopping Criteria"
   ]
  },
  {
   "cell_type": "code",
   "execution_count": 36,
   "id": "2df73de7",
   "metadata": {},
   "outputs": [
    {
     "name": "stdout",
     "output_type": "stream",
     "text": [
      "Epoch 1/50\n",
      "\u001b[1m22/22\u001b[0m \u001b[32m━━━━━━━━━━━━━━━━━━━━\u001b[0m\u001b[37m\u001b[0m \u001b[1m1s\u001b[0m 12ms/step - accuracy: 0.5671 - loss: 0.6907 - val_accuracy: 0.6622 - val_loss: 0.6871\n",
      "Epoch 2/50\n",
      "\u001b[1m22/22\u001b[0m \u001b[32m━━━━━━━━━━━━━━━━━━━━\u001b[0m\u001b[37m\u001b[0m \u001b[1m0s\u001b[0m 7ms/step - accuracy: 0.8341 - loss: 0.6512 - val_accuracy: 0.7838 - val_loss: 0.6222\n",
      "Epoch 3/50\n",
      "\u001b[1m22/22\u001b[0m \u001b[32m━━━━━━━━━━━━━━━━━━━━\u001b[0m\u001b[37m\u001b[0m \u001b[1m0s\u001b[0m 7ms/step - accuracy: 0.8990 - loss: 0.4501 - val_accuracy: 0.7568 - val_loss: 0.6664\n",
      "Epoch 4/50\n",
      "\u001b[1m22/22\u001b[0m \u001b[32m━━━━━━━━━━━━━━━━━━━━\u001b[0m\u001b[37m\u001b[0m \u001b[1m0s\u001b[0m 8ms/step - accuracy: 0.9524 - loss: 0.2645 - val_accuracy: 0.7703 - val_loss: 0.7576\n",
      "Epoch 5/50\n",
      "\u001b[1m22/22\u001b[0m \u001b[32m━━━━━━━━━━━━━━━━━━━━\u001b[0m\u001b[37m\u001b[0m \u001b[1m0s\u001b[0m 8ms/step - accuracy: 0.9769 - loss: 0.1683 - val_accuracy: 0.7770 - val_loss: 0.8376\n",
      "Epoch 6/50\n",
      "\u001b[1m22/22\u001b[0m \u001b[32m━━━━━━━━━━━━━━━━━━━━\u001b[0m\u001b[37m\u001b[0m \u001b[1m0s\u001b[0m 8ms/step - accuracy: 0.9885 - loss: 0.1057 - val_accuracy: 0.7838 - val_loss: 0.8549\n",
      "Epoch 7/50\n",
      "\u001b[1m22/22\u001b[0m \u001b[32m━━━━━━━━━━━━━━━━━━━━\u001b[0m\u001b[37m\u001b[0m \u001b[1m0s\u001b[0m 7ms/step - accuracy: 0.9913 - loss: 0.0769 - val_accuracy: 0.7703 - val_loss: 1.1691\n",
      "\n",
      "Training stopped at epoch: 7\n"
     ]
    }
   ],
   "source": [
    "# Train the model with early stopping\n",
    "history = model.fit(\n",
    "    X_train, y_train,\n",
    "    validation_data=(X_val, y_val),\n",
    "    epochs=50,\n",
    "    batch_size=32,\n",
    "    callbacks=[early_stopping],\n",
    "    verbose=1\n",
    ")\n",
    "\n",
    "print(f\"\\nTraining stopped at epoch: {len(history.history['loss'])}\")"
   ]
  },
  {
   "cell_type": "markdown",
   "id": "d8b7e854",
   "metadata": {},
   "source": [
    "The early stopping callback monitored validation loss and stopped training at **epoch 7** (out of a maximum of 50 epochs) because the validation loss had not improved for 5 consecutive epochs. The best validation loss of **0.6222** occurred at **epoch 2**, and although training continued in epochs 3-7, the validation loss progressively increased (0.6664, 0.7576, 0.8376, 0.8549, 1.1691), indicating the model was beginning to overfit to the training data.\n",
    "\n",
    "This is clearly demonstrated by the divergence between training and validation data. While training accuracy continued to improve dramatically from epoch 2 (83.41%) to epoch 7 (99.13%) and training loss decreased to just 0.0769, the validation accuracy plateaued around 75-78%, and validation loss actually worsened. This overfitting pattern shows the model was memorizing the training data rather than learning generalizable patterns.\n",
    "\n",
    "By stopping at epoch 7 and automatically restoring the model weights from epoch 2 (the epoch with the best validation loss of 0.6222), early stopping prevented further overfitting and saved approximately 43 epochs of unnecessary computation. Without early stopping, the model would have continued for all 50 epochs, resulting in a highly overfit model with poor generalization to unseen data. The stopping criteria successfully identified the optimal point in training and preserved the best-performing version of the model."
   ]
  },
  {
   "cell_type": "markdown",
   "id": "068508ad",
   "metadata": {},
   "source": [
    "### D2. Fitness"
   ]
  },
  {
   "cell_type": "code",
   "execution_count": 37,
   "id": "ef6ceee2",
   "metadata": {},
   "outputs": [
    {
     "name": "stdout",
     "output_type": "stream",
     "text": [
      "Model Fitness Assessment:\n",
      "Training accuracy: 89.03%\n",
      "Validation accuracy: 78.38%\n",
      "Difference: 10.65%\n",
      "\n",
      "Result:\n",
      "============================================================\n",
      "Model may be overfitting (training accuracy much higher)\n"
     ]
    }
   ],
   "source": [
    "# Evaluate on training and validation sets\n",
    "train_loss, train_acc = model.evaluate(X_train, y_train, verbose=0)\n",
    "val_loss, val_acc = model.evaluate(X_val, y_val, verbose=0)\n",
    "\n",
    "print(\"Model Fitness Assessment:\")\n",
    "print(f\"Training accuracy: {train_acc * 100:.2f}%\")\n",
    "print(f\"Validation accuracy: {val_acc * 100:.2f}%\")\n",
    "print(f\"Difference: {abs(train_acc - val_acc) * 100:.2f}%\")\n",
    "\n",
    "print(\"\\nResult:\")\n",
    "print(\"=\" * 60)\n",
    "if abs(train_acc - val_acc) < 0.05:\n",
    "    print(\"Model is well-fitted (difference < 5%)\")\n",
    "elif train_acc > val_acc + 0.10:\n",
    "    print(\"Model may be overfitting (training accuracy much higher)\")\n",
    "else:\n",
    "    print(\"Model may be underfitting (both accuracies low)\")"
   ]
  },
  {
   "cell_type": "markdown",
   "id": "2bd5689e",
   "metadata": {},
   "source": [
    "**General Assessment:**\n",
    "\n",
    "The model shows signs of **overfitting**. The training accuracy is **89.03%**, while the validation accuracy is **78.38%**, resulting in a difference of **10.65**. This gap indicates that the model has learned the training data better than it performs on unseen validation data.\n",
    "\n",
    "**Actions Taken to Address Overfitting:**\n",
    "\n",
    "Several measures were taken to mitigate this overfitting, which is a common challenge with smaller datasets:\n",
    "\n",
    "1. **Dropout Layer (50%):** A dropout layer was added after the LSTM layer. This randomly deactivates 50% of the neurons during training, which prevents the model from becoming too dependent on any single neuron and encourages it to learn more robust features.\n",
    "\n",
    "2. **Early Stopping:** This was crucial. The training was stopped at epoch 7, and the model weights were restored from epoch 2, which had the best performance on the validation set. This prevented the model from continuing to train and further memorize the training data.\n",
    "\n",
    "3. **Conservative Model Size:** The architecture is relatively simple, with a 64-unit LSTM layer and 50-dimensional embeddings. This helps to limit the model's capacity and reduces the risk of overfitting.\n",
    "\n",
    "**Why Overfitting Still Persists:**\n",
    "\n",
    "The primary reason for the remaining overfitting is the **small size of the dataset**. With only 693 samples for training, it's difficult for the model to learn a truly general representation of sentiment without starting to memorize the training examples.\n",
    "\n",
    "**Conclusion:**\n",
    "\n",
    "While there is evidence of overfitting, the validation accuracy of 78.38% is still respectable and shows that the model has learned generalizable patterns for sentiment classification. The regularization techniques have successfully prevented a complete collapse in performance on the validation set."
   ]
  },
  {
   "cell_type": "markdown",
   "id": "dd5d0e5a",
   "metadata": {},
   "source": [
    "### D3. Training Process"
   ]
  },
  {
   "cell_type": "code",
   "execution_count": 39,
   "id": "8f0a7383",
   "metadata": {},
   "outputs": [
    {
     "data": {
      "image/png": "[encoded data removed]",
      "text/plain": [
       "<Figure size 1400x500 with 2 Axes>"
      ]
     },
     "metadata": {},
     "output_type": "display_data"
    }
   ],
   "source": [
    "# Plot training history\n",
    "epochs_range = range(1, len(history.history['loss']) + 1)\n",
    "\n",
    "fig, (ax1, ax2) = plt.subplots(1, 2, figsize=(14, 5))\n",
    "\n",
    "# Loss plot\n",
    "ax1.plot(epochs_range, history.history['loss'], label='Training Loss', color='#A6192E', linewidth=2)\n",
    "ax1.plot(epochs_range, history.history['val_loss'], label='Validation Loss', color='#5CB8B2', linewidth=2)\n",
    "ax1.set_xlabel('Epoch', fontsize=12, fontweight='bold')\n",
    "ax1.set_ylabel('Loss', fontsize=12, fontweight='bold')\n",
    "ax1.set_title('Model Loss Over Epochs', fontsize=14, fontweight='bold')\n",
    "ax1.legend()\n",
    "ax1.grid(alpha=0.3)\n",
    "\n",
    "# Accuracy plot\n",
    "ax2.plot(epochs_range, history.history['accuracy'], label='Training Accuracy', color='#A6192E', linewidth=2)\n",
    "ax2.plot(epochs_range, history.history['val_accuracy'], label='Validation Accuracy', color='#5CB8B2', linewidth=2)\n",
    "ax2.set_xlabel('Epoch', fontsize=12, fontweight='bold')\n",
    "ax2.set_ylabel('Accuracy', fontsize=12, fontweight='bold')\n",
    "ax2.set_title('Model Accuracy Over Epochs', fontsize=14, fontweight='bold')\n",
    "ax2.legend()\n",
    "ax2.grid(alpha=0.3)\n",
    "\n",
    "plt.tight_layout()\n",
    "plt.show()"
   ]
  },
  {
   "cell_type": "markdown",
   "id": "b00bb99a",
   "metadata": {},
   "source": [
    "The visualizations clearly illustrate the training dynamics and the onset of overfitting.\n",
    "\n",
    "**Loss Metrics (left plot):** The training loss (red line) shows a consistent and smooth decrease, starting from around 0.69 and dropping to below 0.1 by epoch 7. This indicates the model is effectively learning the training data. In contrast, the validation loss (teal line) decreases to its minimum at epoch 2 (0.6222) and then begins to steadily increase, confirming that the model's performance on unseen data is worsening.\n",
    "\n",
    "**Accuracy Metrics (right plot):** The training accuracy (red line) climbs steadily from 57% to over 99% by epoch 7, showing that the model is mastering the training set. However, the validation accuracy (teal line) peaks at 78.38% at epoch 2 and then fluctuates around the 77% mark. The growing gap between the red and teal lines is a visual confirmation of overfitting.\n",
    "\n",
    "**Key Observations:**\n",
    "\n",
    "The divergence between the training and validation metrics starts after epoch 2. This is the point where the model begins to memorize the training data rather than learning generalizable features. The early stopping mechanism correctly identified this trend and restored the model to its optimal state from epoch 2, which is crucial for ensuring the best possible performance on new, unseen data."
   ]
  },
  {
   "cell_type": "markdown",
   "id": "2e61bb3f",
   "metadata": {},
   "source": [
    "### D4. Predictive Accuracy"
   ]
  },
  {
   "cell_type": "code",
   "execution_count": 41,
   "id": "b4f3119b",
   "metadata": {},
   "outputs": [
    {
     "name": "stdout",
     "output_type": "stream",
     "text": [
      "Final Model Performance:\n",
      "Test Accuracy: 0.8121 (81.21%)\n",
      "Test Loss: 0.5783\n",
      "\n",
      "Classification Report:\n",
      "              precision    recall  f1-score   support\n",
      "\n",
      "    Negative       0.83      0.79      0.81        75\n",
      "    Positive       0.79      0.84      0.82        74\n",
      "\n",
      "    accuracy                           0.81       149\n",
      "   macro avg       0.81      0.81      0.81       149\n",
      "weighted avg       0.81      0.81      0.81       149\n",
      "\n",
      "\n",
      "Confusion Matrix:\n",
      "[[59 16]\n",
      " [12 62]]\n"
     ]
    }
   ],
   "source": [
    "# Evaluate on test set\n",
    "test_loss, test_acc = model.evaluate(X_test, y_test, verbose=0)\n",
    "\n",
    "print(\"Final Model Performance:\")\n",
    "print(f\"Test Accuracy: {test_acc:.4f} ({test_acc*100:.2f}%)\")\n",
    "print(f\"Test Loss: {test_loss:.4f}\")\n",
    "\n",
    "# Generate predictions\n",
    "y_pred_prob = model.predict(X_test, verbose=0)\n",
    "y_pred = (y_pred_prob > 0.5).astype(int).flatten()\n",
    "\n",
    "# Classification report\n",
    "from sklearn.metrics import classification_report, confusion_matrix\n",
    "\n",
    "print(\"\\nClassification Report:\")\n",
    "print(classification_report(y_test, y_pred, target_names=['Negative', 'Positive']))\n",
    "\n",
    "# Confusion matrix\n",
    "print(\"\\nConfusion Matrix:\")\n",
    "print(confusion_matrix(y_test, y_pred))"
   ]
  },
  {
   "cell_type": "markdown",
   "id": "4f1a86cd",
   "metadata": {},
   "source": [
    "**Analysis:**\n",
    "\n",
    "The final model achieves a **test accuracy of 81.21%** on the completely unseen data. This is a strong performance and slightly higher than the validation accuracy of 78.38%, which suggests the model generalizes well to new data.\n",
    "\n",
    "The classification report provides more detail:\n",
    "\n",
    "* **Precision:** The model has a precision of 83% for negative reviews and 79% for positive reviews. This means that when it predicts a sentiment, it is correct about 79-83% of the time.\n",
    "\n",
    "* **Recall:** The model correctly identifies 79% of the actual negative reviews and about 84% of the actual positive reviews.\n",
    "\n",
    "* **F1 Score:** The F1-scores of 0.81 for negative and 0.82 for positive indicate a good balance between precision and recall.\n",
    "\n",
    "The confusion matrix shows that out of 149 test samples, the model correctly classified **59** negative reviews and **62** positive reviews. It made **16** false positive predictions and **12** false negative predictions.\n",
    "\n",
    "**Conclusion:**\n",
    "\n",
    "The model's predictive accuracy of **81.21%** on the test set successfully answers the research question. It demonstrates that a neural network can indeed be trained to classify sentiment in Amazon product reviews with a good degree of accuracy. The performance is solid across both positive and negative classes, making it a viable tool for sentiment analysis."
   ]
  },
  {
   "cell_type": "markdown",
   "id": "dfdf3db4",
   "metadata": {},
   "source": [
    "### D5. Ethical Standards Compliance"
   ]
  },
  {
   "cell_type": "markdown",
   "id": "2880773b",
   "metadata": {},
   "source": [
    "This sentiment analysis project complies with AI ethical standards and mitigates bias through several carefully implemented measures across data handling, model design, and deployment considerations.\n",
    "\n",
    "* **Fairness and Non-Discrimination:** The model is trained on balanced data with equal distribution of positive and negative reviews (50% each), preventing systematic bias toward either class. The dataset contains only review text without any demographic data or metadata, ensuring the model classifies sentiment based solely on content rather than reviewer characteristics.\n",
    "\n",
    "* **Transparency and Accountability:** All preprocessing steps, model architecture, and hyperparameters are thoroughly documented with code and justifications. Training visualizations and evaluation metrics transparently show both performance and limitations. The analysis explicitly acknowledges the overfitting observed and the **~19% test error rate**, enabling stakeholders to make informed deployment decisions.\n",
    "\n",
    "* **Data Privacy and Bias Mitigation Strategies:** The dataset contains only publicly available review text without personally identifying information. Technical strategies to mitigate bias include: stratified sampling to maintain proportional representation across all data splits, using a single product category (cell phone accessories) to avoid category bias, and retaining stop words because terms like \"not\" and \"very\" are crucial for sentiment understanding.\n",
    "\n",
    "* **Responsible Use:** The model serves a legitimate business purpose--understanding customer sentiment to improve products and services. However, given the **~19% error rate**, human oversight is essential for important decisions. The model should function as a decision-support tool that prioritizes reviews for human attention rather than operating autonomously. Low-confidence predictions require manual review by analysts who can apply contextual understanding and business judgment."
   ]
  },
  {
   "cell_type": "markdown",
   "id": "0d56667b",
   "metadata": {},
   "source": [
    "## E. Code"
   ]
  },
  {
   "cell_type": "code",
   "execution_count": 42,
   "id": "51c62300",
   "metadata": {},
   "outputs": [],
   "source": [
    "# Save the trained model\n",
    "model.save('sentiment_model.keras')"
   ]
  },
  {
   "cell_type": "markdown",
   "id": "90ea01ec",
   "metadata": {},
   "source": [
    "This code saves the trained LSTM model in the keras format, containing the full model architecture, weights, and optimizer state."
   ]
  },
  {
   "cell_type": "markdown",
   "id": "d7aefce9",
   "metadata": {},
   "source": [
    "## F. Functionality"
   ]
  },
  {
   "cell_type": "markdown",
   "id": "5b96374d",
   "metadata": {},
   "source": [
    "The LSTM-based neural network demonstrates effective functionality for classifying sentiment in Amazon product reviews, achieving **81.21%** accuracy on unseen test data.\n",
    "\n",
    "**Core Functional Capabilities:** \n",
    "\n",
    "The model successfully performs binary sentiment classification, distinguishing between positive and negative product reviews with balanced performance across both classes (approximately 81% precision and 81% recall). Through embedding and padding layers, the model flexibly handles reviews of varying lengths up to 50 tokens, making it practical for real-world deployment. The LSTM architecture processes text sequentially, capturing contextual relationships that are crucial for sentiment analysis. For example, it correctly interprets phrases like \"not good\" as negative sentiment by understanding how the word \"not\" modifies the meaning of \"good.\"\n",
    "\n",
    "**Architectural Impact:**\n",
    "\n",
    "The choice of LSTM architecture significantly influences the model's capabilities. The 64-unit LSTM layer maintains internal memory that tracks information across word sequences, enabling recognition of sentiment patterns that depend on word order and context.\n",
    "\n",
    "The 50-dimensional embedding layer transforms words into dense vector representations, allowing the model to learn that semantically similar words like \"excellent\" and \"great\" share similar meanings in positive sentiment contexts. The 50% dropout layer provides critical regularization, preventing more severe overfitting while maintaining reasonable generalization to new reviews.\n",
    "\n",
    "The sigmoid output layer produces interpretable probability scores (0 to 1) rather than simple binary classifications, allowing organizations to set custom thresholds and flag uncertain predictions for human review.\n",
    "\n",
    "**Performance Trade-offs:**\n",
    "\n",
    "The architecture balances model complexity with dataset size. With only 693 training samples, a larger architecture would likely memorize training data, while a simpler model might lack the capacity to capture nuanced language patterns. The chosen design achieves over 81% accuracy while maintaining computational efficiency."
   ]
  },
  {
   "cell_type": "markdown",
   "id": "ff08407d",
   "metadata": {},
   "source": [
    "## G. Recommendations"
   ]
  },
  {
   "cell_type": "markdown",
   "id": "8920fc8f",
   "metadata": {},
   "source": [
    "Based on the model's **81.21% accuracy** in classifying sentiment in Amazon product reviews, I recommend the following course of action:\n",
    "\n",
    "* **Deploy for automated sentiment monitoring:** The model is sufficiently accurate to serve as a sentiment screening tool for Amazon product reviews. With approximately 81% accuracy and balanced precision/recall, it can effectively flag negative reviews for immediate attention and identify trends in customer satisfaction.\n",
    "\n",
    "* **Implement human-in-the-loop review:** With a ~19% error rate, the model should be used as a decision-support tool. Human reviewers should validate any high-stakes decisions based on the model's output. Reviews with low confidence scores (predictions near 0.5) should be prioritized for manual review.\n",
    "\n",
    "* **Address overfitting through data expansion:** The gap between training (89.03%) and validation (78.38%) accuracy indicates overfitting. To improve generalization, the training set should be expanded with more labeled reviews. A larger dataset would likely reduce overfitting and improve performance.\n",
    "\n",
    "* **Continuous monitoring and improvement:** The model should be continuously monitored to detect any drift in performance. It should be periodically retrained with new data to maintain its accuracy.\n",
    "\n",
    "**Conclusion:**\n",
    "\n",
    "The model successfully demonstrates that a neural network can classify sentiment in Amazon product reviews with good accuracy, affirmatively answering the research question. It is ready for deployment as a decision-support tool, but the limitations highlight the need for human oversight and continuous improvement."
   ]
  },
  {
   "cell_type": "markdown",
   "id": "f53a58b8",
   "metadata": {},
   "source": [
    "## H. Reporting"
   ]
  },
  {
   "cell_type": "code",
   "execution_count": 44,
   "id": "e94feeb4",
   "metadata": {},
   "outputs": [
    {
     "name": "stdout",
     "output_type": "stream",
     "text": [
      "[NbConvertApp] Converting notebook d604_task_2.ipynb to html\n",
      "[NbConvertApp] WARNING | Alternative text is missing on 4 image(s).\n",
      "[NbConvertApp] Writing 675990 bytes to d604_task_2.html\n"
     ]
    }
   ],
   "source": [
    "# Convert notebook to HTML\n",
    "!jupyter nbconvert --to html d604_task_2.ipynb"
   ]
  },
  {
   "cell_type": "markdown",
   "id": "b327a876",
   "metadata": {},
   "source": [
    "## I. Sources for Third-Party Code"
   ]
  },
  {
   "cell_type": "markdown",
   "id": "17ff514d",
   "metadata": {},
   "source": [
    "* [Python RegEx 're' module](https://docs.python.org/3/library/re.html)\n",
    "* [Python String module](https://docs.python.org/3/library/string.html)\n",
    "* WGU Course Materials"
   ]
  },
  {
   "cell_type": "markdown",
   "id": "eabfda7c",
   "metadata": {},
   "source": [
    "## J. Sources"
   ]
  },
  {
   "cell_type": "markdown",
   "id": "349b3858",
   "metadata": {},
   "source": [
    "* Ahmad, I., Phd (2023). 50 Algorithms Every Programmer Should Know (2nd ed.). Packt Publishing.\n",
    "* Audevart, A., Banachewicz, K., & Massaron, L. (2021). Machine Learning Using TensorFlow Cookbook. Packt Publishing.\n",
    "* Bourke, D. (2025). TensorFlow for Deep Learning Bootcamp: Zero to Mastery. Zero to Mastery. https://zerotomastery.io/courses/learn-tensorflow/\n",
    "* WGU Course Materials"
   ]
  }
 ],
 "metadata": {
  "kernelspec": {
   "display_name": ".venv",
   "language": "python",
   "name": "python3"
  },
  "language_info": {
   "codemirror_mode": {
    "name": "ipython",
    "version": 3
   },
   "file_extension": ".py",
   "mimetype": "text/x-python",
   "name": "python",
   "nbconvert_exporter": "python",
   "pygments_lexer": "ipython3",
   "version": "3.13.5"
  }
 },
 "nbformat": 4,
 "nbformat_minor": 5
}
