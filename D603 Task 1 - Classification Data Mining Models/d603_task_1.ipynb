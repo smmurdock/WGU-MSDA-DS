{
 "cells": [
  {
   "cell_type": "markdown",
   "id": "93bf98b4",
   "metadata": {},
   "source": [
    "# D603 Task 1: Classification Data Mining Models (Random Forest Classification)"
   ]
  },
  {
   "cell_type": "markdown",
   "id": "d25328ed",
   "metadata": {},
   "source": [
    "## A. GitLab Repository"
   ]
  },
  {
   "cell_type": "markdown",
   "id": "5e1d24c8",
   "metadata": {},
   "source": [
    "https://gitlab.com/wgu-gitlab-environment/student-repos/smurd32/d603-machine-learning/-/tree/task-1-classification?ref_type=heads"
   ]
  },
  {
   "cell_type": "markdown",
   "id": "30420159",
   "metadata": {},
   "source": [
    "## B. Purpose of the Data Mining Report"
   ]
  },
  {
   "cell_type": "markdown",
   "id": "2e9db082",
   "metadata": {},
   "source": [
    "### B1. Proposal of Question"
   ]
  },
  {
   "cell_type": "markdown",
   "id": "e63aac32",
   "metadata": {},
   "source": [
    "**Business Question:** Can we predict which patients are most likely to be readmitted within 30 days of discharge so that our hospital chain can implement targeted intervention programs to improve patient outcomes and reduce readmission penalties?"
   ]
  },
  {
   "cell_type": "markdown",
   "id": "7f7a6b93",
   "metadata": {},
   "source": [
    "### B2. Defined Goal"
   ]
  },
  {
   "cell_type": "markdown",
   "id": "8c126c87",
   "metadata": {},
   "source": [
    "**Goal:** Develop a Random Forest Classification model that identifies the most important factors influencing the prediction of patient readmission risk, enabling early identification of high-risk patients for targeted intervention programs. By identifying these factors, we can provide targeted intervention initiatives that can improve the patient experience and reduce the financial penalties from the Centers for Medicare and Medicaid Services (CMS). Freeing up that funding can go toward additional hospital resources or medical care initiatives."
   ]
  },
  {
   "cell_type": "markdown",
   "id": "ae9195aa",
   "metadata": {},
   "source": [
    "## C. Justification of Classification Method"
   ]
  },
  {
   "cell_type": "markdown",
   "id": "8e71e415",
   "metadata": {},
   "source": [
    "### C1. Explanation of Classification Method"
   ]
  },
  {
   "cell_type": "markdown",
   "id": "1701ac68",
   "metadata": {},
   "source": [
    "Random Forest Classification works by creating multiple decision trees that each make independent predictions about patient readmission risk. Each tree is trained on a random sample of the data and uses a random subset of available features, such as age, medical conditions, and hospital stay details. The final prediction comes from combining all the individual tree votes--if most trees predict \"readmitted,\" the patient is classified as high-risk for readmission. This ensemble approach reduces errors and provides more reliable predictions than any single decision tree.\n",
    "\n",
    "Random Forest Classification is the ideal classification method for this medical dataset because it naturally handles the mix of categorical data (like gender and medical conditions) and continuous data (like age and income) without requiring complicated preprocessing. Most importantly for healthcare applications, it provides clear feature importance rankings that show which patient factors most strongly predict readmission risk. This interpretability allows hospital staff to understand why certain patients are high-risk and develop targeted intervention programs.\n",
    "\n",
    "The expected outcomes include accurate binary predictions (readmitted versus not readmitted), probability scores for risk assessment, and actionable insights about which patient characteristics to monitor most closely.\n"
   ]
  },
  {
   "cell_type": "markdown",
   "id": "4f77b20a",
   "metadata": {},
   "source": [
    "### C2. Packages & Libraries List"
   ]
  },
  {
   "cell_type": "markdown",
   "id": "08cc382c",
   "metadata": {},
   "source": [
    "The follow packages and libraries were chosen to complete the Random Forest Classification:\n",
    "\n",
    "- `pandas`: Allows data manipulation and analysis.\n",
    "- `re`: RegEx package allows easy renaming of variables for consistency.\n",
    "- `numpy`: Provides numerical computations.\n",
    "- `RandomForestClassifier` from Scikit-Learn: Acts as the main classification algorithm.\n",
    "- `train_test_split` from Scikit-Learn: Provides data splits for training and testing to prevent overfitting.\n",
    "- `GridSearchCV` from Scikit-Learn: Finds optimal hyperparameters automatically using cross-validation.\n",
    "- `StratifiedKFold` from Scikit-Learn: A cross-validation technique used to split a dataset into training and testing sets, specifically designed to handle similar proportions of damples from each class as the original dataset.\n",
    "- `cross_val_score` from Scikit-Learn: Provides a more robust performance estimation than single train/test split.\n",
    "- `accuracy_score` from Scikit-Learn: Provides overall correctness but can be misleading if classes are imbalanced.\n",
    "- `precision_score` from Scikit-Learn: Reduces false alarms, important for resource allocation.\n",
    "- `recall_score` from Scikit-Learn: Measures how good the model is at finding all positive cases that actually exist.\n",
    "- `f1_score` from Sckit-Learn: Balances precision and recall.\n",
    "- `roc_auc_score` from Scikit-Learn: Determines how well the model distinguishes between readmitted and non-readmitted patients.\n",
    "- `confusion_matrix` from Scikit-Learn: Provides detailed breakdown of prediction errors.\n",
    "- `classification_report` from Scikit-Learn: Single function that provides all performance metrics.\n",
    "- `LabelEncoder` from Scikit-Learn: Converts categories to numbers for Random Forest needs.\n",
    "- `OrdinalEncoder` from Scikit-Learn: Converts ordinal categories to numbers for Random Forest needs.\n",
    "- `matplotlib`: Visualizations\n",
    "- `seaborn`: Statistical visualizations"
   ]
  },
  {
   "cell_type": "markdown",
   "id": "619c5b8e",
   "metadata": {},
   "source": [
    "## D. Data Preparation"
   ]
  },
  {
   "cell_type": "markdown",
   "id": "5b1aec11",
   "metadata": {},
   "source": [
    "### D1. Data Preprocessing"
   ]
  },
  {
   "cell_type": "markdown",
   "id": "7988c3e6",
   "metadata": {},
   "source": [
    "**Data Preprocessing Goal:** Convert categorical variables to numerical format to create compatibility with Random Forest algorithm requirements.\n",
    "\n",
    "Random Forest Classification requires all input features to be in numerical format, but the `medical_clean.csv` dataset contains several categorical variables such as Gender (Male/Female/Nonbinary), Marital Status (Divorced/Married/Widowed), and several binary medical conditions (Yes/No) for high blood pressure, stroke, diabetes, etc.\n",
    "\n",
    "To address this requirement, I will use mapping and Scikit-Learn's `LabelEncoder` and `OrdinalEncoder` to transform these text-based categorical variables into numeric representations. For example, I will use mapping to replace the 'Yes' and 'No' to '1' and '0' for any binary categories, OrdinalEncoder will be used to encode ordinal categories to preserve meaning in categorical order, and LabelEncoder will be used to encode any nominal categories.\n",
    "\n",
    "This preprocessing step is essential because Random Forest's underlying decision tree algorithm can only process numerical data when making splits and calculating feature importance scores. By encoding categorical variables appropriately, it is ensured that the Random Forest model can effectively utilize all available patient information to make accurate readmission predictions while maintaining the interpretability of results."
   ]
  },
  {
   "cell_type": "markdown",
   "id": "ad568a3a",
   "metadata": {},
   "source": [
    "### D2. Dataset Variables"
   ]
  },
  {
   "cell_type": "markdown",
   "id": "e8de0d84",
   "metadata": {},
   "source": [
    "Below are the initial dataset variables retained for the Random Forest Classification analysis to predict patient readmission status:\n",
    "#### Target Variable:\n",
    "\n",
    "- `ReAdmis`: Patient readmitted within 30 days (Yes/No); Categorical (Binary)\n",
    "\n",
    "#### Predictor Variables:\n",
    "\n",
    "**Patient Demographics:**\n",
    "- `Age`: Patient age in years; Continuous\n",
    "- `Gender`: Patient gender (Male/Female/Nonbinary); Categorial\n",
    "- `Income`: Annual income of patient; Continuous\n",
    "- `Marital`: Marital status of patient (Single/Married/Divorced/Widowed/Never Married); Categorical\n",
    "- `Children`: Number of children in household; Continuous\n",
    "- `Area`: Area type (Rural/Suburban/Urban); Categorical\n",
    "\n",
    "**Clinical Measurements:**\n",
    "- `VitD_levels`: Vitamin D levels (ng/mL); Continuous\n",
    "- `Doc_visits`: Number of physician visits during hospitalization; Continous\n",
    "- `Full_meals_eaten`: Number of full meals eaten during hospitalization; Continuous\n",
    "- `VitD_supp`: Number of vitamin D supplements administered; Continuous\n",
    "- `Initial_days`: Length of initial hospital stays (days); Continuous\n",
    "\n",
    "**Medical Conditions (Binary Yes/No):**\n",
    "- `HighBlood`: High blood pressure diagnosis; Categorical (Binary)\n",
    "- `Stroke`: Previous stroke history; Categorical (Binary)\n",
    "- `Overweight`: Patient considered overweight; Categorical (Binary)\n",
    "- `Arthritis`: Arthritis diagnosis; Categorical (Binary)\n",
    "- `Diabetes`: Diabetes diagnosis; Categorical (Binary)\n",
    "- `BackPain`: Chronic back pain diagnosis; Categorical (Binary)\n",
    "- `Anxiety`: Anxiety disorder diagnosis; Categorical (Binary)\n",
    "- `Asthma`: Asthma diagnosis; Categorical (Binary)\n",
    "\n",
    "**Operational Factors:**\n",
    "- `Initial_admin`: Type of admission (Emergency/Elective/Observation); Categorical\n",
    "- `Services`: Primary service received (Blood work/IV/CT scan/MRI); Categorical\n",
    "- `Complication_risk`: Patient complication risk level (High/Medium/Low); Categorical (Ordinal)\n",
    "- `Soft_drink`: Habitually drinks 3+ sodas daily (Yes/No); Categorical (Binary)\n",
    "\n",
    "**Financial Variables**\n",
    "- `TotalCharge`: Average daily charge amount; Continuous\n",
    "- `Additional_charges`: Average additional charges; Continuous\n",
    "\n",
    "Summary: 15 categorical variables; 10 continuous variables\n"
   ]
  },
  {
   "cell_type": "markdown",
   "id": "c79aa25d",
   "metadata": {},
   "source": [
    "### D3. Steps for Analysis"
   ]
  },
  {
   "cell_type": "code",
   "execution_count": null,
   "id": "fa843ecc",
   "metadata": {},
   "outputs": [],
   "source": [
    "# Core packages:\n",
    "import pandas as pd\n",
    "import re\n",
    "from sklearn.ensemble import RandomForestClassifier\n",
    "from sklearn.model_selection import train_test_split, GridSearchCV, StratifiedKFold\n",
    "from sklearn.metrics import accuracy_score, precision_score, recall_score, f1_score, roc_auc_score, confusion_matrix, classification_report\n",
    "from sklearn.preprocessing import LabelEncoder, OrdinalEncoder\n",
    "import matplotlib.pyplot as plt\n",
    "import seaborn as sns\n",
    "import warnings\n",
    "warnings.filterwarnings('ignore')"
   ]
  },
  {
   "cell_type": "code",
   "execution_count": 2,
   "id": "ee10d8a4",
   "metadata": {},
   "outputs": [
    {
     "data": {
      "text/html": [
       "<div>\n",
       "<style scoped>\n",
       "    .dataframe tbody tr th:only-of-type {\n",
       "        vertical-align: middle;\n",
       "    }\n",
       "\n",
       "    .dataframe tbody tr th {\n",
       "        vertical-align: top;\n",
       "    }\n",
       "\n",
       "    .dataframe thead th {\n",
       "        text-align: right;\n",
       "    }\n",
       "</style>\n",
       "<table border=\"1\" class=\"dataframe\">\n",
       "  <thead>\n",
       "    <tr style=\"text-align: right;\">\n",
       "      <th></th>\n",
       "      <th>CaseOrder</th>\n",
       "      <th>Customer_id</th>\n",
       "      <th>Interaction</th>\n",
       "      <th>UID</th>\n",
       "      <th>City</th>\n",
       "      <th>State</th>\n",
       "      <th>County</th>\n",
       "      <th>Zip</th>\n",
       "      <th>Lat</th>\n",
       "      <th>Lng</th>\n",
       "      <th>...</th>\n",
       "      <th>TotalCharge</th>\n",
       "      <th>Additional_charges</th>\n",
       "      <th>Item1</th>\n",
       "      <th>Item2</th>\n",
       "      <th>Item3</th>\n",
       "      <th>Item4</th>\n",
       "      <th>Item5</th>\n",
       "      <th>Item6</th>\n",
       "      <th>Item7</th>\n",
       "      <th>Item8</th>\n",
       "    </tr>\n",
       "  </thead>\n",
       "  <tbody>\n",
       "    <tr>\n",
       "      <th>0</th>\n",
       "      <td>1</td>\n",
       "      <td>C412403</td>\n",
       "      <td>8cd49b13-f45a-4b47-a2bd-173ffa932c2f</td>\n",
       "      <td>3a83ddb66e2ae73798bdf1d705dc0932</td>\n",
       "      <td>Eva</td>\n",
       "      <td>AL</td>\n",
       "      <td>Morgan</td>\n",
       "      <td>35621</td>\n",
       "      <td>34.34960</td>\n",
       "      <td>-86.72508</td>\n",
       "      <td>...</td>\n",
       "      <td>3726.702860</td>\n",
       "      <td>17939.403420</td>\n",
       "      <td>3</td>\n",
       "      <td>3</td>\n",
       "      <td>2</td>\n",
       "      <td>2</td>\n",
       "      <td>4</td>\n",
       "      <td>3</td>\n",
       "      <td>3</td>\n",
       "      <td>4</td>\n",
       "    </tr>\n",
       "    <tr>\n",
       "      <th>1</th>\n",
       "      <td>2</td>\n",
       "      <td>Z919181</td>\n",
       "      <td>d2450b70-0337-4406-bdbb-bc1037f1734c</td>\n",
       "      <td>176354c5eef714957d486009feabf195</td>\n",
       "      <td>Marianna</td>\n",
       "      <td>FL</td>\n",
       "      <td>Jackson</td>\n",
       "      <td>32446</td>\n",
       "      <td>30.84513</td>\n",
       "      <td>-85.22907</td>\n",
       "      <td>...</td>\n",
       "      <td>4193.190458</td>\n",
       "      <td>17612.998120</td>\n",
       "      <td>3</td>\n",
       "      <td>4</td>\n",
       "      <td>3</td>\n",
       "      <td>4</td>\n",
       "      <td>4</td>\n",
       "      <td>4</td>\n",
       "      <td>3</td>\n",
       "      <td>3</td>\n",
       "    </tr>\n",
       "    <tr>\n",
       "      <th>2</th>\n",
       "      <td>3</td>\n",
       "      <td>F995323</td>\n",
       "      <td>a2057123-abf5-4a2c-abad-8ffe33512562</td>\n",
       "      <td>e19a0fa00aeda885b8a436757e889bc9</td>\n",
       "      <td>Sioux Falls</td>\n",
       "      <td>SD</td>\n",
       "      <td>Minnehaha</td>\n",
       "      <td>57110</td>\n",
       "      <td>43.54321</td>\n",
       "      <td>-96.63772</td>\n",
       "      <td>...</td>\n",
       "      <td>2434.234222</td>\n",
       "      <td>17505.192460</td>\n",
       "      <td>2</td>\n",
       "      <td>4</td>\n",
       "      <td>4</td>\n",
       "      <td>4</td>\n",
       "      <td>3</td>\n",
       "      <td>4</td>\n",
       "      <td>3</td>\n",
       "      <td>3</td>\n",
       "    </tr>\n",
       "    <tr>\n",
       "      <th>3</th>\n",
       "      <td>4</td>\n",
       "      <td>A879973</td>\n",
       "      <td>1dec528d-eb34-4079-adce-0d7a40e82205</td>\n",
       "      <td>cd17d7b6d152cb6f23957346d11c3f07</td>\n",
       "      <td>New Richland</td>\n",
       "      <td>MN</td>\n",
       "      <td>Waseca</td>\n",
       "      <td>56072</td>\n",
       "      <td>43.89744</td>\n",
       "      <td>-93.51479</td>\n",
       "      <td>...</td>\n",
       "      <td>2127.830423</td>\n",
       "      <td>12993.437350</td>\n",
       "      <td>3</td>\n",
       "      <td>5</td>\n",
       "      <td>5</td>\n",
       "      <td>3</td>\n",
       "      <td>4</td>\n",
       "      <td>5</td>\n",
       "      <td>5</td>\n",
       "      <td>5</td>\n",
       "    </tr>\n",
       "    <tr>\n",
       "      <th>4</th>\n",
       "      <td>5</td>\n",
       "      <td>C544523</td>\n",
       "      <td>5885f56b-d6da-43a3-8760-83583af94266</td>\n",
       "      <td>d2f0425877b10ed6bb381f3e2579424a</td>\n",
       "      <td>West Point</td>\n",
       "      <td>VA</td>\n",
       "      <td>King William</td>\n",
       "      <td>23181</td>\n",
       "      <td>37.59894</td>\n",
       "      <td>-76.88958</td>\n",
       "      <td>...</td>\n",
       "      <td>2113.073274</td>\n",
       "      <td>3716.525786</td>\n",
       "      <td>2</td>\n",
       "      <td>1</td>\n",
       "      <td>3</td>\n",
       "      <td>3</td>\n",
       "      <td>5</td>\n",
       "      <td>3</td>\n",
       "      <td>4</td>\n",
       "      <td>3</td>\n",
       "    </tr>\n",
       "  </tbody>\n",
       "</table>\n",
       "<p>5 rows × 50 columns</p>\n",
       "</div>"
      ],
      "text/plain": [
       "   CaseOrder Customer_id                           Interaction  \\\n",
       "0          1     C412403  8cd49b13-f45a-4b47-a2bd-173ffa932c2f   \n",
       "1          2     Z919181  d2450b70-0337-4406-bdbb-bc1037f1734c   \n",
       "2          3     F995323  a2057123-abf5-4a2c-abad-8ffe33512562   \n",
       "3          4     A879973  1dec528d-eb34-4079-adce-0d7a40e82205   \n",
       "4          5     C544523  5885f56b-d6da-43a3-8760-83583af94266   \n",
       "\n",
       "                                UID          City State        County    Zip  \\\n",
       "0  3a83ddb66e2ae73798bdf1d705dc0932           Eva    AL        Morgan  35621   \n",
       "1  176354c5eef714957d486009feabf195      Marianna    FL       Jackson  32446   \n",
       "2  e19a0fa00aeda885b8a436757e889bc9   Sioux Falls    SD     Minnehaha  57110   \n",
       "3  cd17d7b6d152cb6f23957346d11c3f07  New Richland    MN        Waseca  56072   \n",
       "4  d2f0425877b10ed6bb381f3e2579424a    West Point    VA  King William  23181   \n",
       "\n",
       "        Lat       Lng  ...  TotalCharge Additional_charges Item1 Item2  Item3  \\\n",
       "0  34.34960 -86.72508  ...  3726.702860       17939.403420     3     3      2   \n",
       "1  30.84513 -85.22907  ...  4193.190458       17612.998120     3     4      3   \n",
       "2  43.54321 -96.63772  ...  2434.234222       17505.192460     2     4      4   \n",
       "3  43.89744 -93.51479  ...  2127.830423       12993.437350     3     5      5   \n",
       "4  37.59894 -76.88958  ...  2113.073274        3716.525786     2     1      3   \n",
       "\n",
       "   Item4  Item5 Item6 Item7 Item8  \n",
       "0      2      4     3     3     4  \n",
       "1      4      4     4     3     3  \n",
       "2      4      3     4     3     3  \n",
       "3      3      4     5     5     5  \n",
       "4      3      5     3     4     3  \n",
       "\n",
       "[5 rows x 50 columns]"
      ]
     },
     "execution_count": 2,
     "metadata": {},
     "output_type": "execute_result"
    }
   ],
   "source": [
    "# Load the dataset\n",
    "df = pd.read_csv('medical_clean.csv')\n",
    "# Preview the dataset\n",
    "df.head()"
   ]
  },
  {
   "cell_type": "markdown",
   "id": "21d9f58a",
   "metadata": {},
   "source": [
    "To prepare the data for the Random Forest classification model, I used the `.read_csv()` function from `pandas` to load the CSV and convert it into a DataFrame, making it easier to analyze. The `.head()` function loads the first five observations of the DataFrame to verify it loaded correctly and provide a full preview of the data."
   ]
  },
  {
   "cell_type": "code",
   "execution_count": 3,
   "id": "e256a8e3",
   "metadata": {},
   "outputs": [
    {
     "name": "stdout",
     "output_type": "stream",
     "text": [
      "<class 'pandas.core.frame.DataFrame'>\n",
      "RangeIndex: 10000 entries, 0 to 9999\n",
      "Data columns (total 26 columns):\n",
      " #   Column              Non-Null Count  Dtype  \n",
      "---  ------              --------------  -----  \n",
      " 0   ReAdmis             10000 non-null  object \n",
      " 1   Age                 10000 non-null  int64  \n",
      " 2   Gender              10000 non-null  object \n",
      " 3   Income              10000 non-null  float64\n",
      " 4   Marital             10000 non-null  object \n",
      " 5   Children            10000 non-null  int64  \n",
      " 6   Area                10000 non-null  object \n",
      " 7   VitD_levels         10000 non-null  float64\n",
      " 8   Doc_visits          10000 non-null  int64  \n",
      " 9   Full_meals_eaten    10000 non-null  int64  \n",
      " 10  vitD_supp           10000 non-null  int64  \n",
      " 11  Initial_days        10000 non-null  float64\n",
      " 12  HighBlood           10000 non-null  object \n",
      " 13  Stroke              10000 non-null  object \n",
      " 14  Overweight          10000 non-null  object \n",
      " 15  Arthritis           10000 non-null  object \n",
      " 16  Diabetes            10000 non-null  object \n",
      " 17  BackPain            10000 non-null  object \n",
      " 18  Anxiety             10000 non-null  object \n",
      " 19  Asthma              10000 non-null  object \n",
      " 20  Initial_admin       10000 non-null  object \n",
      " 21  Services            10000 non-null  object \n",
      " 22  Complication_risk   10000 non-null  object \n",
      " 23  Soft_drink          10000 non-null  object \n",
      " 24  TotalCharge         10000 non-null  float64\n",
      " 25  Additional_charges  10000 non-null  float64\n",
      "dtypes: float64(5), int64(5), object(16)\n",
      "memory usage: 2.0+ MB\n"
     ]
    }
   ],
   "source": [
    "# Select relevant columns to keep\n",
    "columns_to_keep = ['ReAdmis', 'Age', 'Gender', 'Income', 'Marital', 'Children', 'Area',\n",
    "                'VitD_levels', 'Doc_visits', 'Full_meals_eaten', 'vitD_supp', 'Initial_days',\n",
    "                'HighBlood', 'Stroke', 'Overweight', 'Arthritis', 'Diabetes', 'BackPain', 'Anxiety', 'Asthma',\n",
    "                'Initial_admin', 'Services', 'Complication_risk', 'Soft_drink',\n",
    "                'TotalCharge', 'Additional_charges']\n",
    "\n",
    "df = df[columns_to_keep]\n",
    "df.info()"
   ]
  },
  {
   "cell_type": "markdown",
   "id": "44da3727",
   "metadata": {},
   "source": [
    "Out of the original 50 features, I chose a target variable ('ReAdmis') and 24 potential predictive variables that seemed to have the most to do with what may predict if a patient is readmitted to the hospital after discharge.\n",
    "\n",
    "**Initial Observations:**\n",
    "\n",
    "- There are no missing values in any of the columns.\n",
    "- There is a mix of object, int64, and float64 data types.\n",
    "- There is one target variable and 24 feature variables out of the initial 50 variables."
   ]
  },
  {
   "cell_type": "code",
   "execution_count": 4,
   "id": "572bbfac",
   "metadata": {},
   "outputs": [
    {
     "name": "stdout",
     "output_type": "stream",
     "text": [
      "<class 'pandas.core.frame.DataFrame'>\n",
      "RangeIndex: 10000 entries, 0 to 9999\n",
      "Data columns (total 26 columns):\n",
      " #   Column              Non-Null Count  Dtype  \n",
      "---  ------              --------------  -----  \n",
      " 0   re_admis            10000 non-null  object \n",
      " 1   age                 10000 non-null  int64  \n",
      " 2   gender              10000 non-null  object \n",
      " 3   income              10000 non-null  float64\n",
      " 4   marital             10000 non-null  object \n",
      " 5   children            10000 non-null  int64  \n",
      " 6   area                10000 non-null  object \n",
      " 7   vit_d_levels        10000 non-null  float64\n",
      " 8   doc_visits          10000 non-null  int64  \n",
      " 9   full_meals_eaten    10000 non-null  int64  \n",
      " 10  vit_d_supp          10000 non-null  int64  \n",
      " 11  initial_days        10000 non-null  float64\n",
      " 12  high_blood          10000 non-null  object \n",
      " 13  stroke              10000 non-null  object \n",
      " 14  overweight          10000 non-null  object \n",
      " 15  arthritis           10000 non-null  object \n",
      " 16  diabetes            10000 non-null  object \n",
      " 17  back_pain           10000 non-null  object \n",
      " 18  anxiety             10000 non-null  object \n",
      " 19  asthma              10000 non-null  object \n",
      " 20  initial_admin       10000 non-null  object \n",
      " 21  services            10000 non-null  object \n",
      " 22  complication_risk   10000 non-null  object \n",
      " 23  soft_drink          10000 non-null  object \n",
      " 24  total_charge        10000 non-null  float64\n",
      " 25  additional_charges  10000 non-null  float64\n",
      "dtypes: float64(5), int64(5), object(16)\n",
      "memory usage: 2.0+ MB\n"
     ]
    }
   ],
   "source": [
    "# Create a function that creates a consistent snake_case style for all variable names\n",
    "def to_snake_case(name):\n",
    "    \"\"\"\n",
    "    Convert column name to snake_case format\n",
    "    \"\"\"\n",
    "    # Handle acronyms and special cases first\n",
    "    name = name.replace('VitD', 'vit_d')\n",
    "    name = name.replace('UID', 'uid')\n",
    "\n",
    "    # Insert underscore before uppercase letters that follow lowercase letters\n",
    "    # This handles PascalCase like 'HighBlood' -> 'High_Blood'\n",
    "    name = re.sub('([a-z0-9])([A-Z])', r'\\1_\\2', name)\n",
    "\n",
    "    # Convert to lowercase\n",
    "    name = name.lower()\n",
    "\n",
    "    # Clean up any multiple underscores\n",
    "    name = re.sub('_+', '_', name)\n",
    "\n",
    "    # Remove leading/trailing underscores\n",
    "    name = name.strip('_')\n",
    "\n",
    "    return name\n",
    "\n",
    "# Apply snake_case conversion to all column names\n",
    "df.columns = [to_snake_case(col) for col in df.columns]\n",
    "# print out new info\n",
    "df.info()"
   ]
  },
  {
   "cell_type": "markdown",
   "id": "1b4423c7",
   "metadata": {},
   "source": [
    "I found the inconsistency of the column names (despite being a \"cleaned\" dataset) to be difficult to work with, so I created a function that uses regular expressions to fix the column names and convert them all from a mix of snake case, Pascal case, and other miscellaneous cases to a consistent use of snake_case."
   ]
  },
  {
   "cell_type": "code",
   "execution_count": 5,
   "id": "cf85404e",
   "metadata": {},
   "outputs": [
    {
     "name": "stdout",
     "output_type": "stream",
     "text": [
      "Encoded complication_risk: Low=0, Medium=1, High=2\n"
     ]
    }
   ],
   "source": [
    "# Categorical variables to label encode\n",
    "# (Codecademy, n.d.) - Encoding Categorical Variables\n",
    "# Binary variables\n",
    "binary_cats = ['re_admis', 'high_blood', 'back_pain', 'stroke', 'overweight',\n",
    "               'arthritis', 'diabetes', 'anxiety', 'asthma', 'soft_drink']\n",
    "\n",
    "ordinal_cats = ['complication_risk']\n",
    "\n",
    "nominal_cats = ['gender', 'marital', 'area', 'initial_admin', 'services']\n",
    "\n",
    "\n",
    "#applying label encoding to each variable by type\n",
    "# Binary Categories\n",
    "for col in binary_cats:\n",
    "    df[col] = df[col].map({'Yes': 1, 'No': 0})\n",
    "\n",
    "# Ordinal Category - order preserved for significance\n",
    "ordinal_encoder = OrdinalEncoder(categories=[['Low', 'Medium', 'High']])\n",
    "df['complication_risk'] = ordinal_encoder.fit_transform(df[['complication_risk']]).astype(int)\n",
    "print(f\"Encoded complication_risk: Low=0, Medium=1, High=2\")\n",
    "\n",
    "# Nominal Categories - order not preserved for significance\n",
    "label_encoders = {}\n",
    "for col in nominal_cats:\n",
    "    le = LabelEncoder()\n",
    "    df[col] = le.fit_transform(df[col])\n",
    "    label_encoders[col] = le"
   ]
  },
  {
   "cell_type": "markdown",
   "id": "50e88693",
   "metadata": {},
   "source": [
    "I separated out the binary, ordinal, and nominal categorical variables and encoded them with a mix of mapping, `OrdinalEncoder`, and `LabelEncoder`.\n",
    "\n",
    "Using DataFrame mapping, I was able to quickly convert binary \"Yes\" values to `1` and \"No\" values to `0`. `OrdinalEncoder` allowed me to preserve the order and meaning behind the `complication_risk` values as the only ordinal category. Using `LabelEncoder` for the nominal categorical variables allowed me to maintain interpretability without creating too many variables like `pd.get_dummies()` would create."
   ]
  },
  {
   "cell_type": "code",
   "execution_count": 6,
   "id": "b350dae6",
   "metadata": {},
   "outputs": [
    {
     "data": {
      "text/html": [
       "<div>\n",
       "<style scoped>\n",
       "    .dataframe tbody tr th:only-of-type {\n",
       "        vertical-align: middle;\n",
       "    }\n",
       "\n",
       "    .dataframe tbody tr th {\n",
       "        vertical-align: top;\n",
       "    }\n",
       "\n",
       "    .dataframe thead th {\n",
       "        text-align: right;\n",
       "    }\n",
       "</style>\n",
       "<table border=\"1\" class=\"dataframe\">\n",
       "  <thead>\n",
       "    <tr style=\"text-align: right;\">\n",
       "      <th></th>\n",
       "      <th>re_admis</th>\n",
       "      <th>age</th>\n",
       "      <th>gender</th>\n",
       "      <th>income</th>\n",
       "      <th>marital</th>\n",
       "      <th>children</th>\n",
       "      <th>area</th>\n",
       "      <th>vit_d_levels</th>\n",
       "      <th>doc_visits</th>\n",
       "      <th>full_meals_eaten</th>\n",
       "      <th>...</th>\n",
       "      <th>diabetes</th>\n",
       "      <th>back_pain</th>\n",
       "      <th>anxiety</th>\n",
       "      <th>asthma</th>\n",
       "      <th>initial_admin</th>\n",
       "      <th>services</th>\n",
       "      <th>complication_risk</th>\n",
       "      <th>soft_drink</th>\n",
       "      <th>total_charge</th>\n",
       "      <th>additional_charges</th>\n",
       "    </tr>\n",
       "  </thead>\n",
       "  <tbody>\n",
       "    <tr>\n",
       "      <th>0</th>\n",
       "      <td>0</td>\n",
       "      <td>53</td>\n",
       "      <td>1</td>\n",
       "      <td>86575.93</td>\n",
       "      <td>0</td>\n",
       "      <td>1</td>\n",
       "      <td>1</td>\n",
       "      <td>19.141466</td>\n",
       "      <td>6</td>\n",
       "      <td>0</td>\n",
       "      <td>...</td>\n",
       "      <td>1</td>\n",
       "      <td>1</td>\n",
       "      <td>1</td>\n",
       "      <td>1</td>\n",
       "      <td>1</td>\n",
       "      <td>0</td>\n",
       "      <td>1</td>\n",
       "      <td>0</td>\n",
       "      <td>3726.702860</td>\n",
       "      <td>17939.403420</td>\n",
       "    </tr>\n",
       "    <tr>\n",
       "      <th>1</th>\n",
       "      <td>0</td>\n",
       "      <td>51</td>\n",
       "      <td>0</td>\n",
       "      <td>46805.99</td>\n",
       "      <td>1</td>\n",
       "      <td>3</td>\n",
       "      <td>2</td>\n",
       "      <td>18.940352</td>\n",
       "      <td>4</td>\n",
       "      <td>2</td>\n",
       "      <td>...</td>\n",
       "      <td>0</td>\n",
       "      <td>0</td>\n",
       "      <td>0</td>\n",
       "      <td>0</td>\n",
       "      <td>1</td>\n",
       "      <td>2</td>\n",
       "      <td>2</td>\n",
       "      <td>0</td>\n",
       "      <td>4193.190458</td>\n",
       "      <td>17612.998120</td>\n",
       "    </tr>\n",
       "    <tr>\n",
       "      <th>2</th>\n",
       "      <td>0</td>\n",
       "      <td>53</td>\n",
       "      <td>0</td>\n",
       "      <td>14370.14</td>\n",
       "      <td>4</td>\n",
       "      <td>3</td>\n",
       "      <td>1</td>\n",
       "      <td>18.057507</td>\n",
       "      <td>4</td>\n",
       "      <td>1</td>\n",
       "      <td>...</td>\n",
       "      <td>1</td>\n",
       "      <td>0</td>\n",
       "      <td>0</td>\n",
       "      <td>0</td>\n",
       "      <td>0</td>\n",
       "      <td>0</td>\n",
       "      <td>1</td>\n",
       "      <td>0</td>\n",
       "      <td>2434.234222</td>\n",
       "      <td>17505.192460</td>\n",
       "    </tr>\n",
       "    <tr>\n",
       "      <th>3</th>\n",
       "      <td>0</td>\n",
       "      <td>78</td>\n",
       "      <td>1</td>\n",
       "      <td>39741.49</td>\n",
       "      <td>1</td>\n",
       "      <td>0</td>\n",
       "      <td>1</td>\n",
       "      <td>16.576858</td>\n",
       "      <td>4</td>\n",
       "      <td>1</td>\n",
       "      <td>...</td>\n",
       "      <td>0</td>\n",
       "      <td>0</td>\n",
       "      <td>0</td>\n",
       "      <td>1</td>\n",
       "      <td>0</td>\n",
       "      <td>0</td>\n",
       "      <td>1</td>\n",
       "      <td>0</td>\n",
       "      <td>2127.830423</td>\n",
       "      <td>12993.437350</td>\n",
       "    </tr>\n",
       "    <tr>\n",
       "      <th>4</th>\n",
       "      <td>0</td>\n",
       "      <td>22</td>\n",
       "      <td>0</td>\n",
       "      <td>1209.56</td>\n",
       "      <td>4</td>\n",
       "      <td>1</td>\n",
       "      <td>0</td>\n",
       "      <td>17.439069</td>\n",
       "      <td>5</td>\n",
       "      <td>0</td>\n",
       "      <td>...</td>\n",
       "      <td>0</td>\n",
       "      <td>0</td>\n",
       "      <td>0</td>\n",
       "      <td>0</td>\n",
       "      <td>0</td>\n",
       "      <td>1</td>\n",
       "      <td>0</td>\n",
       "      <td>1</td>\n",
       "      <td>2113.073274</td>\n",
       "      <td>3716.525786</td>\n",
       "    </tr>\n",
       "  </tbody>\n",
       "</table>\n",
       "<p>5 rows × 26 columns</p>\n",
       "</div>"
      ],
      "text/plain": [
       "   re_admis  age  gender    income  marital  children  area  vit_d_levels  \\\n",
       "0         0   53       1  86575.93        0         1     1     19.141466   \n",
       "1         0   51       0  46805.99        1         3     2     18.940352   \n",
       "2         0   53       0  14370.14        4         3     1     18.057507   \n",
       "3         0   78       1  39741.49        1         0     1     16.576858   \n",
       "4         0   22       0   1209.56        4         1     0     17.439069   \n",
       "\n",
       "   doc_visits  full_meals_eaten  ...  diabetes  back_pain  anxiety  asthma  \\\n",
       "0           6                 0  ...         1          1        1       1   \n",
       "1           4                 2  ...         0          0        0       0   \n",
       "2           4                 1  ...         1          0        0       0   \n",
       "3           4                 1  ...         0          0        0       1   \n",
       "4           5                 0  ...         0          0        0       0   \n",
       "\n",
       "   initial_admin  services  complication_risk  soft_drink  total_charge  \\\n",
       "0              1         0                  1           0   3726.702860   \n",
       "1              1         2                  2           0   4193.190458   \n",
       "2              0         0                  1           0   2434.234222   \n",
       "3              0         0                  1           0   2127.830423   \n",
       "4              0         1                  0           1   2113.073274   \n",
       "\n",
       "   additional_charges  \n",
       "0        17939.403420  \n",
       "1        17612.998120  \n",
       "2        17505.192460  \n",
       "3        12993.437350  \n",
       "4         3716.525786  \n",
       "\n",
       "[5 rows x 26 columns]"
      ]
     },
     "execution_count": 6,
     "metadata": {},
     "output_type": "execute_result"
    }
   ],
   "source": [
    "df.head()"
   ]
  },
  {
   "cell_type": "code",
   "execution_count": 7,
   "id": "0ab11c9a",
   "metadata": {},
   "outputs": [
    {
     "name": "stdout",
     "output_type": "stream",
     "text": [
      "<class 'pandas.core.frame.DataFrame'>\n",
      "RangeIndex: 10000 entries, 0 to 9999\n",
      "Data columns (total 26 columns):\n",
      " #   Column              Non-Null Count  Dtype  \n",
      "---  ------              --------------  -----  \n",
      " 0   re_admis            10000 non-null  int64  \n",
      " 1   age                 10000 non-null  int64  \n",
      " 2   gender              10000 non-null  int64  \n",
      " 3   income              10000 non-null  float64\n",
      " 4   marital             10000 non-null  int64  \n",
      " 5   children            10000 non-null  int64  \n",
      " 6   area                10000 non-null  int64  \n",
      " 7   vit_d_levels        10000 non-null  float64\n",
      " 8   doc_visits          10000 non-null  int64  \n",
      " 9   full_meals_eaten    10000 non-null  int64  \n",
      " 10  vit_d_supp          10000 non-null  int64  \n",
      " 11  initial_days        10000 non-null  float64\n",
      " 12  high_blood          10000 non-null  int64  \n",
      " 13  stroke              10000 non-null  int64  \n",
      " 14  overweight          10000 non-null  int64  \n",
      " 15  arthritis           10000 non-null  int64  \n",
      " 16  diabetes            10000 non-null  int64  \n",
      " 17  back_pain           10000 non-null  int64  \n",
      " 18  anxiety             10000 non-null  int64  \n",
      " 19  asthma              10000 non-null  int64  \n",
      " 20  initial_admin       10000 non-null  int64  \n",
      " 21  services            10000 non-null  int64  \n",
      " 22  complication_risk   10000 non-null  int64  \n",
      " 23  soft_drink          10000 non-null  int64  \n",
      " 24  total_charge        10000 non-null  float64\n",
      " 25  additional_charges  10000 non-null  float64\n",
      "dtypes: float64(5), int64(21)\n",
      "memory usage: 2.0 MB\n"
     ]
    }
   ],
   "source": [
    "df.info()"
   ]
  },
  {
   "cell_type": "markdown",
   "id": "e8bbbe70",
   "metadata": {},
   "source": [
    "**Observations:**\n",
    "\n",
    "- There are no longer any \"object\" types. All data has been converted to int64 or float64 as appropriate."
   ]
  },
  {
   "cell_type": "markdown",
   "id": "1c891506",
   "metadata": {},
   "source": [
    "### D4. Cleaned Dataset"
   ]
  },
  {
   "cell_type": "code",
   "execution_count": 8,
   "id": "f76f1167",
   "metadata": {},
   "outputs": [],
   "source": [
    "# Provide a copy of the cleaned dataset\n",
    "df.to_csv(\"cleaned_medical_dataset.csv\", index=False)"
   ]
  },
  {
   "cell_type": "markdown",
   "id": "e3ad00d2",
   "metadata": {},
   "source": [
    "## E. Perform Data Analysis"
   ]
  },
  {
   "cell_type": "markdown",
   "id": "64dfb5bf",
   "metadata": {},
   "source": [
    "### E1. Splitting the Data"
   ]
  },
  {
   "cell_type": "code",
   "execution_count": 9,
   "id": "01e577d1",
   "metadata": {},
   "outputs": [
    {
     "name": "stdout",
     "output_type": "stream",
     "text": [
      "Feature matrix shape: (10000, 25)\n",
      "Target vector shape: (10000,)\n",
      "Target distribution:\n",
      "re_admis\n",
      "0    6331\n",
      "1    3669\n",
      "Name: count, dtype: int64\n"
     ]
    }
   ],
   "source": [
    "# Separate the features (X) from the target variable (y)\n",
    "X = df.drop('re_admis', axis=1)\n",
    "y = df['re_admis']\n",
    "\n",
    "print(f\"Feature matrix shape: {X.shape}\")\n",
    "print(f\"Target vector shape: {y.shape}\")\n",
    "print(f\"Target distribution:\\n{y.value_counts()}\")"
   ]
  },
  {
   "cell_type": "code",
   "execution_count": 10,
   "id": "f12b4f9f",
   "metadata": {},
   "outputs": [],
   "source": [
    "# First split: 70% training data, 30% temporary data (for validation + test)\n",
    "# (Codecademy, n.d.) - Training, Validation and Test Dataset\n",
    "X_train, X_temp, y_train, y_temp = train_test_split(\n",
    "    X, y,\n",
    "    test_size=0.3, # 30% will be split equally into validation and test data\n",
    "    random_state=42,\n",
    "    stratify=y # maintain class distribution across splits\n",
    ")"
   ]
  },
  {
   "cell_type": "code",
   "execution_count": 11,
   "id": "f32b5a65",
   "metadata": {},
   "outputs": [],
   "source": [
    "# Second split: Split the 30% temp data into 15% validation and 15% test data\n",
    "X_val, X_test, y_val, y_test = train_test_split(\n",
    "    X_temp, y_temp,\n",
    "    test_size=0.5, # split original 30% in half\n",
    "    random_state=42,\n",
    "    stratify=y_temp # maintain class distribution across splits\n",
    ")"
   ]
  },
  {
   "cell_type": "code",
   "execution_count": 12,
   "id": "c7ec3f3c",
   "metadata": {},
   "outputs": [
    {
     "name": "stdout",
     "output_type": "stream",
     "text": [
      "\n",
      "Dataset split verification:\n",
      "Total samples: 10000\n",
      "Training set: 7000 samples (70.0%)\n",
      "Validation set: 1500 samples (15.0%)\n",
      "Test set: 1500 samples (15.0%)\n"
     ]
    }
   ],
   "source": [
    "# Verify the splits are correct\n",
    "total_samples = len(df)\n",
    "print(f\"\\nDataset split verification:\")\n",
    "print(f\"Total samples: {total_samples}\")\n",
    "print(f\"Training set: {len(X_train)} samples ({len(X_train)/total_samples:.1%})\")\n",
    "print(f\"Validation set: {len(X_val)} samples ({len(X_val)/total_samples:.1%})\")\n",
    "print(f\"Test set: {len(X_test)} samples ({len(X_test)/total_samples:.1%})\")"
   ]
  },
  {
   "cell_type": "code",
   "execution_count": 13,
   "id": "d863c99c",
   "metadata": {},
   "outputs": [
    {
     "name": "stdout",
     "output_type": "stream",
     "text": [
      "\n",
      "Class distribution verification:\n",
      "Original: re_admis\n",
      "0    0.6331\n",
      "1    0.3669\n",
      "Name: proportion, dtype: float64\n",
      "Training: re_admis\n",
      "0    0.633143\n",
      "1    0.366857\n",
      "Name: proportion, dtype: float64\n",
      "Validation: re_admis\n",
      "0    0.632667\n",
      "1    0.367333\n",
      "Name: proportion, dtype: float64\n",
      "Test: re_admis\n",
      "0    0.633333\n",
      "1    0.366667\n",
      "Name: proportion, dtype: float64\n"
     ]
    }
   ],
   "source": [
    "# Verify class distribution is maintained across splits\n",
    "print(f\"\\nClass distribution verification:\")\n",
    "print(f\"Original: {y.value_counts(normalize=True).sort_index()}\")\n",
    "print(f\"Training: {y_train.value_counts(normalize=True).sort_index()}\")\n",
    "print(f\"Validation: {y_val.value_counts(normalize=True).sort_index()}\")\n",
    "print(f\"Test: {y_test.value_counts(normalize=True).sort_index()}\")"
   ]
  },
  {
   "cell_type": "code",
   "execution_count": 14,
   "id": "e589c700",
   "metadata": {},
   "outputs": [],
   "source": [
    "# Save the split datasets to separate files\n",
    "# Training set\n",
    "train_data = pd.concat([X_train, y_train], axis=1)\n",
    "train_data.to_csv(\"training_dataset.csv\", index=False)\n",
    "\n",
    "# Validation set\n",
    "val_data = pd.concat([X_val, y_val], axis=1)\n",
    "val_data.to_csv(\"validation_dataset.csv\", index=False)\n",
    "\n",
    "# Test set\n",
    "test_data = pd.concat([X_test, y_test], axis=1)\n",
    "test_data.to_csv(\"test_dataset.csv\", index=False)"
   ]
  },
  {
   "cell_type": "markdown",
   "id": "387073c1",
   "metadata": {},
   "source": [
    "### E2. Initial Model Creation"
   ]
  },
  {
   "cell_type": "code",
   "execution_count": 15,
   "id": "a08702b7",
   "metadata": {},
   "outputs": [
    {
     "name": "stdout",
     "output_type": "stream",
     "text": [
      "Initial Random Forest Parameters:\n",
      "- n_estimators: 100\n",
      "- max_depth: None\n",
      "- min_samples_split: 2\n",
      "- min_samples_leaf: 1\n",
      "- max_features: sqrt\n",
      "- bootstrap: True\n"
     ]
    }
   ],
   "source": [
    "# Create initial Random Forest model using the TRAINING dataset and default\n",
    "# parameters\n",
    "rf_initial = RandomForestClassifier(random_state=42, n_jobs=-1)\n",
    "\n",
    "print(f\"Initial Random Forest Parameters:\")\n",
    "print(f\"- n_estimators: {rf_initial.n_estimators}\")\n",
    "print(f\"- max_depth: {rf_initial.max_depth}\")\n",
    "print(f\"- min_samples_split: {rf_initial.min_samples_split}\")\n",
    "print(f\"- min_samples_leaf: {rf_initial.min_samples_leaf}\")\n",
    "print(f\"- max_features: {rf_initial.max_features}\")\n",
    "print(f\"- bootstrap: {rf_initial.bootstrap}\")"
   ]
  },
  {
   "cell_type": "code",
   "execution_count": 16,
   "id": "836c1512",
   "metadata": {},
   "outputs": [],
   "source": [
    "# Train the model on the training data\n",
    "rf_initial.fit(X_train, y_train)\n",
    "\n",
    "# Make predictions on the training data\n",
    "y_train_pred = rf_initial.predict(X_train)\n",
    "y_train_proba = rf_initial.predict_proba(X_train)[:, 1] # Probabilities for positive class"
   ]
  },
  {
   "cell_type": "code",
   "execution_count": 17,
   "id": "2a13a955",
   "metadata": {},
   "outputs": [
    {
     "name": "stdout",
     "output_type": "stream",
     "text": [
      "Accuracy: 1.0000 (100.0%)\n",
      "Precision: 1.0000 (100.0%)\n",
      "Recall: 1.0000 (100.0%)\n",
      "F1 Score: 1.0000 (100.0%)\n",
      "AUC-ROC: 1.0000 (100.0%)\n",
      "\n",
      "Confusion Matrix:\n",
      "                 Predicted\n",
      "Actual    No (0)    Yes (1)\n",
      "No (0)      4432         0\n",
      "Yes (1)        0      2568\n"
     ]
    }
   ],
   "source": [
    "# Calculate and print all required metrics\n",
    "# 1. Accuracy\n",
    "accuracy = accuracy_score(y_train, y_train_pred)\n",
    "print(f\"Accuracy: {accuracy:.4f} ({accuracy:.1%})\")\n",
    "\n",
    "# 2. Precision\n",
    "precision = precision_score(y_train, y_train_pred)\n",
    "print(f\"Precision: {precision:.4f} ({precision:.1%})\")\n",
    "\n",
    "# 3. Recall\n",
    "recall = recall_score(y_train, y_train_pred)\n",
    "print(f\"Recall: {recall:.4f} ({recall:.1%})\")\n",
    "\n",
    "# 4. F1 Score\n",
    "f1 = f1_score(y_train, y_train_pred)\n",
    "print(f\"F1 Score: {f1:.4f} ({f1:.1%})\")\n",
    "\n",
    "# 5. AUC-ROC\n",
    "auc_roc = roc_auc_score(y_train, y_train_proba)\n",
    "print(f\"AUC-ROC: {auc_roc:.4f} ({auc_roc:.1%})\")\n",
    "\n",
    "# 6. Confusion Matrix\n",
    "cm = confusion_matrix(y_train, y_train_pred)\n",
    "print(f\"\\nConfusion Matrix:\")\n",
    "print(f\"                 Predicted\")\n",
    "print(f\"Actual    No (0)    Yes (1)\")\n",
    "print(f\"No (0)    {cm[0,0]:6d}    {cm[0,1]:6d}\")\n",
    "print(f\"Yes (1)   {cm[1,0]:6d}    {cm[1,1]:6d}\")"
   ]
  },
  {
   "cell_type": "code",
   "execution_count": 18,
   "id": "d18fd300",
   "metadata": {},
   "outputs": [
    {
     "name": "stdout",
     "output_type": "stream",
     "text": [
      "\n",
      "Detailed Breakdown:\n",
      "True Negatives (TN):  4,432\n",
      "False Positives (FP): 0\n",
      "False Negatives (FN): 0\n",
      "True Positives (TP):  2,568\n",
      "\n",
      "Classification Report:\n",
      "                precision    recall  f1-score   support\n",
      "\n",
      "Not Readmitted       1.00      1.00      1.00      4432\n",
      "    Readmitted       1.00      1.00      1.00      2568\n",
      "\n",
      "      accuracy                           1.00      7000\n",
      "     macro avg       1.00      1.00      1.00      7000\n",
      "  weighted avg       1.00      1.00      1.00      7000\n",
      "\n"
     ]
    }
   ],
   "source": [
    "# Additional detailed breakdown\n",
    "tn, fp, fn, tp = cm.ravel()\n",
    "print(f\"\\nDetailed Breakdown:\")\n",
    "print(f\"True Negatives (TN):  {tn:,}\")\n",
    "print(f\"False Positives (FP): {fp:,}\")\n",
    "print(f\"False Negatives (FN): {fn:,}\")\n",
    "print(f\"True Positives (TP):  {tp:,}\")\n",
    "\n",
    "# Comprehensive Classification Report\n",
    "print(f\"\\nClassification Report:\")\n",
    "print(classification_report(y_train, y_train_pred,\n",
    "                            target_names=[\"Not Readmitted\", \"Readmitted\"]))"
   ]
  },
  {
   "cell_type": "code",
   "execution_count": 19,
   "id": "9c990db3",
   "metadata": {},
   "outputs": [
    {
     "data": {
      "image/png": "[encoded data removed]",
      "text/plain": [
       "<Figure size 800x600 with 2 Axes>"
      ]
     },
     "metadata": {},
     "output_type": "display_data"
    }
   ],
   "source": [
    "# Visualize confusion matrix for TRAINING data\n",
    "plt.figure(figsize=(8, 6))\n",
    "sns.heatmap(cm, annot=True, fmt='d', cmap='Blues',\n",
    "            xticklabels=['Not Readmitted', 'Readmitted'],\n",
    "            yticklabels=['Not Readmitted', 'Readmitted'])\n",
    "plt.title('Random Forest Model - Confusion Matrix\\n(Training Dataset)')\n",
    "plt.xlabel('Predicted')\n",
    "plt.ylabel('Actual')\n",
    "plt.tight_layout()\n",
    "plt.show()"
   ]
  },
  {
   "cell_type": "markdown",
   "id": "46141f9f",
   "metadata": {},
   "source": [
    "### E3. Hyperparameter Tuning"
   ]
  },
  {
   "cell_type": "markdown",
   "id": "3a92fd31",
   "metadata": {},
   "source": [
    "**Hyperparameters Selected for Tuning:**\n",
    "\n",
    "1. `n_estimators`: Number of trees in the forest\n",
    "  - More trees generally improve performance but increase computation time\n",
    "  - Testing: `[50, 100, 200]` to balance performance vs efficiency\n",
    "2. `max_depth`: Maximum depth of individual trees\n",
    "  - Controls overfitting - deeper trees can memorize training data\n",
    "  - Testing: `[10, None]` to find optimal complexity\n",
    "3. `min_samples_split`: Minimum samples required to split internal node\n",
    "  - Higher values prevent overfitting by requiring more samples per split\n",
    "  - Testing: `[5, 10]` from very flexible to more conservative\n",
    "4. `min_samples_leaf`: Minimum samples required at leaf node\n",
    "  - Controls overfitting by ensuring leaves have sufficient samples\n",
    "  - Testing: `[2, 4]` to balance model complexity\n",
    "5. `max_features`: Number of features considered for best split\n",
    "  - Controls randomness and prevents overfitting\n",
    "  - Testing: `['sqrt', 'log2']` - standard Random Forest approaches"
   ]
  },
  {
   "cell_type": "code",
   "execution_count": 20,
   "id": "c74921c4",
   "metadata": {},
   "outputs": [],
   "source": [
    "# Define parameter grid for hyperparameter tuning\n",
    "param_grid = {\n",
    "    'n_estimators': [50, 100, 200],   # Number of trees\n",
    "    'max_depth': [10, None],          # Tree depth (None = unlimited)\n",
    "    'min_samples_split': [5, 10],     # Min samples to split node\n",
    "    'min_samples_leaf': [2, 4],       # Min samples in leaf\n",
    "    'max_features': ['sqrt', 'log2']  # Features per tree\n",
    "}"
   ]
  },
  {
   "cell_type": "markdown",
   "id": "c6ef6d83",
   "metadata": {},
   "source": [
    "These hyperparameters were chosen because they directly control:\n",
    "- Model complexity and overfitting (`max_depth`, `min_samples_split`, `min_samples_leaf`)\n",
    "- Ensemble diversity and performance (`n_estimators`, `max_features`)\n",
    "- Computational efficiency vs accuracy trade-offs\n",
    "- Are most impactful for Random Forest performance in medical prediction"
   ]
  },
  {
   "cell_type": "code",
   "execution_count": 21,
   "id": "0ce44720",
   "metadata": {},
   "outputs": [],
   "source": [
    "# Create Random Forest for hyperparameter tuning\n",
    "rf_tuning = RandomForestClassifier(random_state=42, n_jobs=-1)\n",
    "\n",
    "# Define the 5-fold cross-validation strategy\n",
    "cv = StratifiedKFold(n_splits=5, shuffle=True, random_state=42)"
   ]
  },
  {
   "cell_type": "code",
   "execution_count": 22,
   "id": "0c3c07e2",
   "metadata": {},
   "outputs": [
    {
     "name": "stdout",
     "output_type": "stream",
     "text": [
      "Total parameter combinations to test: 48\n"
     ]
    }
   ],
   "source": [
    "# Perform GridSearchCV with 5-fold cross validation\n",
    "print(f\"Total parameter combinations to test: {len(param_grid['n_estimators']) * len(param_grid['max_depth']) * len(param_grid['min_samples_split']) * len(param_grid['min_samples_leaf']) * len(param_grid['max_features'])}\")\n",
    "\n",
    "grid_search = GridSearchCV(\n",
    "    estimator=rf_tuning,\n",
    "    param_grid=param_grid,\n",
    "    cv=cv,                   # 5-fold cross validation\n",
    "    scoring='f1',            # Optimize for F1-score (balances precision/recall)\n",
    "    n_jobs=-1,\n",
    "    verbose=1\n",
    ")"
   ]
  },
  {
   "cell_type": "code",
   "execution_count": 23,
   "id": "43b5b1a9",
   "metadata": {},
   "outputs": [
    {
     "name": "stdout",
     "output_type": "stream",
     "text": [
      "Fitting 5 folds for each of 48 candidates, totalling 240 fits\n"
     ]
    },
    {
     "data": {
      "text/html": [
       "<style>#sk-container-id-1 {\n",
       "  /* Definition of color scheme common for light and dark mode */\n",
       "  --sklearn-color-text: #000;\n",
       "  --sklearn-color-text-muted: #666;\n",
       "  --sklearn-color-line: gray;\n",
       "  /* Definition of color scheme for unfitted estimators */\n",
       "  --sklearn-color-unfitted-level-0: #fff5e6;\n",
       "  --sklearn-color-unfitted-level-1: #f6e4d2;\n",
       "  --sklearn-color-unfitted-level-2: #ffe0b3;\n",
       "  --sklearn-color-unfitted-level-3: chocolate;\n",
       "  /* Definition of color scheme for fitted estimators */\n",
       "  --sklearn-color-fitted-level-0: #f0f8ff;\n",
       "  --sklearn-color-fitted-level-1: #d4ebff;\n",
       "  --sklearn-color-fitted-level-2: #b3dbfd;\n",
       "  --sklearn-color-fitted-level-3: cornflowerblue;\n",
       "\n",
       "  /* Specific color for light theme */\n",
       "  --sklearn-color-text-on-default-background: var(--sg-text-color, var(--theme-code-foreground, var(--jp-content-font-color1, black)));\n",
       "  --sklearn-color-background: var(--sg-background-color, var(--theme-background, var(--jp-layout-color0, white)));\n",
       "  --sklearn-color-border-box: var(--sg-text-color, var(--theme-code-foreground, var(--jp-content-font-color1, black)));\n",
       "  --sklearn-color-icon: #696969;\n",
       "\n",
       "  @media (prefers-color-scheme: dark) {\n",
       "    /* Redefinition of color scheme for dark theme */\n",
       "    --sklearn-color-text-on-default-background: var(--sg-text-color, var(--theme-code-foreground, var(--jp-content-font-color1, white)));\n",
       "    --sklearn-color-background: var(--sg-background-color, var(--theme-background, var(--jp-layout-color0, #111)));\n",
       "    --sklearn-color-border-box: var(--sg-text-color, var(--theme-code-foreground, var(--jp-content-font-color1, white)));\n",
       "    --sklearn-color-icon: #878787;\n",
       "  }\n",
       "}\n",
       "\n",
       "#sk-container-id-1 {\n",
       "  color: var(--sklearn-color-text);\n",
       "}\n",
       "\n",
       "#sk-container-id-1 pre {\n",
       "  padding: 0;\n",
       "}\n",
       "\n",
       "#sk-container-id-1 input.sk-hidden--visually {\n",
       "  border: 0;\n",
       "  clip: rect(1px 1px 1px 1px);\n",
       "  clip: rect(1px, 1px, 1px, 1px);\n",
       "  height: 1px;\n",
       "  margin: -1px;\n",
       "  overflow: hidden;\n",
       "  padding: 0;\n",
       "  position: absolute;\n",
       "  width: 1px;\n",
       "}\n",
       "\n",
       "#sk-container-id-1 div.sk-dashed-wrapped {\n",
       "  border: 1px dashed var(--sklearn-color-line);\n",
       "  margin: 0 0.4em 0.5em 0.4em;\n",
       "  box-sizing: border-box;\n",
       "  padding-bottom: 0.4em;\n",
       "  background-color: var(--sklearn-color-background);\n",
       "}\n",
       "\n",
       "#sk-container-id-1 div.sk-container {\n",
       "  /* jupyter's `normalize.less` sets `[hidden] { display: none; }`\n",
       "     but bootstrap.min.css set `[hidden] { display: none !important; }`\n",
       "     so we also need the `!important` here to be able to override the\n",
       "     default hidden behavior on the sphinx rendered scikit-learn.org.\n",
       "     See: https://github.com/scikit-learn/scikit-learn/issues/21755 */\n",
       "  display: inline-block !important;\n",
       "  position: relative;\n",
       "}\n",
       "\n",
       "#sk-container-id-1 div.sk-text-repr-fallback {\n",
       "  display: none;\n",
       "}\n",
       "\n",
       "div.sk-parallel-item,\n",
       "div.sk-serial,\n",
       "div.sk-item {\n",
       "  /* draw centered vertical line to link estimators */\n",
       "  background-image: linear-gradient(var(--sklearn-color-text-on-default-background), var(--sklearn-color-text-on-default-background));\n",
       "  background-size: 2px 100%;\n",
       "  background-repeat: no-repeat;\n",
       "  background-position: center center;\n",
       "}\n",
       "\n",
       "/* Parallel-specific style estimator block */\n",
       "\n",
       "#sk-container-id-1 div.sk-parallel-item::after {\n",
       "  content: \"\";\n",
       "  width: 100%;\n",
       "  border-bottom: 2px solid var(--sklearn-color-text-on-default-background);\n",
       "  flex-grow: 1;\n",
       "}\n",
       "\n",
       "#sk-container-id-1 div.sk-parallel {\n",
       "  display: flex;\n",
       "  align-items: stretch;\n",
       "  justify-content: center;\n",
       "  background-color: var(--sklearn-color-background);\n",
       "  position: relative;\n",
       "}\n",
       "\n",
       "#sk-container-id-1 div.sk-parallel-item {\n",
       "  display: flex;\n",
       "  flex-direction: column;\n",
       "}\n",
       "\n",
       "#sk-container-id-1 div.sk-parallel-item:first-child::after {\n",
       "  align-self: flex-end;\n",
       "  width: 50%;\n",
       "}\n",
       "\n",
       "#sk-container-id-1 div.sk-parallel-item:last-child::after {\n",
       "  align-self: flex-start;\n",
       "  width: 50%;\n",
       "}\n",
       "\n",
       "#sk-container-id-1 div.sk-parallel-item:only-child::after {\n",
       "  width: 0;\n",
       "}\n",
       "\n",
       "/* Serial-specific style estimator block */\n",
       "\n",
       "#sk-container-id-1 div.sk-serial {\n",
       "  display: flex;\n",
       "  flex-direction: column;\n",
       "  align-items: center;\n",
       "  background-color: var(--sklearn-color-background);\n",
       "  padding-right: 1em;\n",
       "  padding-left: 1em;\n",
       "}\n",
       "\n",
       "\n",
       "/* Toggleable style: style used for estimator/Pipeline/ColumnTransformer box that is\n",
       "clickable and can be expanded/collapsed.\n",
       "- Pipeline and ColumnTransformer use this feature and define the default style\n",
       "- Estimators will overwrite some part of the style using the `sk-estimator` class\n",
       "*/\n",
       "\n",
       "/* Pipeline and ColumnTransformer style (default) */\n",
       "\n",
       "#sk-container-id-1 div.sk-toggleable {\n",
       "  /* Default theme specific background. It is overwritten whether we have a\n",
       "  specific estimator or a Pipeline/ColumnTransformer */\n",
       "  background-color: var(--sklearn-color-background);\n",
       "}\n",
       "\n",
       "/* Toggleable label */\n",
       "#sk-container-id-1 label.sk-toggleable__label {\n",
       "  cursor: pointer;\n",
       "  display: flex;\n",
       "  width: 100%;\n",
       "  margin-bottom: 0;\n",
       "  padding: 0.5em;\n",
       "  box-sizing: border-box;\n",
       "  text-align: center;\n",
       "  align-items: start;\n",
       "  justify-content: space-between;\n",
       "  gap: 0.5em;\n",
       "}\n",
       "\n",
       "#sk-container-id-1 label.sk-toggleable__label .caption {\n",
       "  font-size: 0.6rem;\n",
       "  font-weight: lighter;\n",
       "  color: var(--sklearn-color-text-muted);\n",
       "}\n",
       "\n",
       "#sk-container-id-1 label.sk-toggleable__label-arrow:before {\n",
       "  /* Arrow on the left of the label */\n",
       "  content: \"▸\";\n",
       "  float: left;\n",
       "  margin-right: 0.25em;\n",
       "  color: var(--sklearn-color-icon);\n",
       "}\n",
       "\n",
       "#sk-container-id-1 label.sk-toggleable__label-arrow:hover:before {\n",
       "  color: var(--sklearn-color-text);\n",
       "}\n",
       "\n",
       "/* Toggleable content - dropdown */\n",
       "\n",
       "#sk-container-id-1 div.sk-toggleable__content {\n",
       "  max-height: 0;\n",
       "  max-width: 0;\n",
       "  overflow: hidden;\n",
       "  text-align: left;\n",
       "  /* unfitted */\n",
       "  background-color: var(--sklearn-color-unfitted-level-0);\n",
       "}\n",
       "\n",
       "#sk-container-id-1 div.sk-toggleable__content.fitted {\n",
       "  /* fitted */\n",
       "  background-color: var(--sklearn-color-fitted-level-0);\n",
       "}\n",
       "\n",
       "#sk-container-id-1 div.sk-toggleable__content pre {\n",
       "  margin: 0.2em;\n",
       "  border-radius: 0.25em;\n",
       "  color: var(--sklearn-color-text);\n",
       "  /* unfitted */\n",
       "  background-color: var(--sklearn-color-unfitted-level-0);\n",
       "}\n",
       "\n",
       "#sk-container-id-1 div.sk-toggleable__content.fitted pre {\n",
       "  /* unfitted */\n",
       "  background-color: var(--sklearn-color-fitted-level-0);\n",
       "}\n",
       "\n",
       "#sk-container-id-1 input.sk-toggleable__control:checked~div.sk-toggleable__content {\n",
       "  /* Expand drop-down */\n",
       "  max-height: 200px;\n",
       "  max-width: 100%;\n",
       "  overflow: auto;\n",
       "}\n",
       "\n",
       "#sk-container-id-1 input.sk-toggleable__control:checked~label.sk-toggleable__label-arrow:before {\n",
       "  content: \"▾\";\n",
       "}\n",
       "\n",
       "/* Pipeline/ColumnTransformer-specific style */\n",
       "\n",
       "#sk-container-id-1 div.sk-label input.sk-toggleable__control:checked~label.sk-toggleable__label {\n",
       "  color: var(--sklearn-color-text);\n",
       "  background-color: var(--sklearn-color-unfitted-level-2);\n",
       "}\n",
       "\n",
       "#sk-container-id-1 div.sk-label.fitted input.sk-toggleable__control:checked~label.sk-toggleable__label {\n",
       "  background-color: var(--sklearn-color-fitted-level-2);\n",
       "}\n",
       "\n",
       "/* Estimator-specific style */\n",
       "\n",
       "/* Colorize estimator box */\n",
       "#sk-container-id-1 div.sk-estimator input.sk-toggleable__control:checked~label.sk-toggleable__label {\n",
       "  /* unfitted */\n",
       "  background-color: var(--sklearn-color-unfitted-level-2);\n",
       "}\n",
       "\n",
       "#sk-container-id-1 div.sk-estimator.fitted input.sk-toggleable__control:checked~label.sk-toggleable__label {\n",
       "  /* fitted */\n",
       "  background-color: var(--sklearn-color-fitted-level-2);\n",
       "}\n",
       "\n",
       "#sk-container-id-1 div.sk-label label.sk-toggleable__label,\n",
       "#sk-container-id-1 div.sk-label label {\n",
       "  /* The background is the default theme color */\n",
       "  color: var(--sklearn-color-text-on-default-background);\n",
       "}\n",
       "\n",
       "/* On hover, darken the color of the background */\n",
       "#sk-container-id-1 div.sk-label:hover label.sk-toggleable__label {\n",
       "  color: var(--sklearn-color-text);\n",
       "  background-color: var(--sklearn-color-unfitted-level-2);\n",
       "}\n",
       "\n",
       "/* Label box, darken color on hover, fitted */\n",
       "#sk-container-id-1 div.sk-label.fitted:hover label.sk-toggleable__label.fitted {\n",
       "  color: var(--sklearn-color-text);\n",
       "  background-color: var(--sklearn-color-fitted-level-2);\n",
       "}\n",
       "\n",
       "/* Estimator label */\n",
       "\n",
       "#sk-container-id-1 div.sk-label label {\n",
       "  font-family: monospace;\n",
       "  font-weight: bold;\n",
       "  display: inline-block;\n",
       "  line-height: 1.2em;\n",
       "}\n",
       "\n",
       "#sk-container-id-1 div.sk-label-container {\n",
       "  text-align: center;\n",
       "}\n",
       "\n",
       "/* Estimator-specific */\n",
       "#sk-container-id-1 div.sk-estimator {\n",
       "  font-family: monospace;\n",
       "  border: 1px dotted var(--sklearn-color-border-box);\n",
       "  border-radius: 0.25em;\n",
       "  box-sizing: border-box;\n",
       "  margin-bottom: 0.5em;\n",
       "  /* unfitted */\n",
       "  background-color: var(--sklearn-color-unfitted-level-0);\n",
       "}\n",
       "\n",
       "#sk-container-id-1 div.sk-estimator.fitted {\n",
       "  /* fitted */\n",
       "  background-color: var(--sklearn-color-fitted-level-0);\n",
       "}\n",
       "\n",
       "/* on hover */\n",
       "#sk-container-id-1 div.sk-estimator:hover {\n",
       "  /* unfitted */\n",
       "  background-color: var(--sklearn-color-unfitted-level-2);\n",
       "}\n",
       "\n",
       "#sk-container-id-1 div.sk-estimator.fitted:hover {\n",
       "  /* fitted */\n",
       "  background-color: var(--sklearn-color-fitted-level-2);\n",
       "}\n",
       "\n",
       "/* Specification for estimator info (e.g. \"i\" and \"?\") */\n",
       "\n",
       "/* Common style for \"i\" and \"?\" */\n",
       "\n",
       ".sk-estimator-doc-link,\n",
       "a:link.sk-estimator-doc-link,\n",
       "a:visited.sk-estimator-doc-link {\n",
       "  float: right;\n",
       "  font-size: smaller;\n",
       "  line-height: 1em;\n",
       "  font-family: monospace;\n",
       "  background-color: var(--sklearn-color-background);\n",
       "  border-radius: 1em;\n",
       "  height: 1em;\n",
       "  width: 1em;\n",
       "  text-decoration: none !important;\n",
       "  margin-left: 0.5em;\n",
       "  text-align: center;\n",
       "  /* unfitted */\n",
       "  border: var(--sklearn-color-unfitted-level-1) 1pt solid;\n",
       "  color: var(--sklearn-color-unfitted-level-1);\n",
       "}\n",
       "\n",
       ".sk-estimator-doc-link.fitted,\n",
       "a:link.sk-estimator-doc-link.fitted,\n",
       "a:visited.sk-estimator-doc-link.fitted {\n",
       "  /* fitted */\n",
       "  border: var(--sklearn-color-fitted-level-1) 1pt solid;\n",
       "  color: var(--sklearn-color-fitted-level-1);\n",
       "}\n",
       "\n",
       "/* On hover */\n",
       "div.sk-estimator:hover .sk-estimator-doc-link:hover,\n",
       ".sk-estimator-doc-link:hover,\n",
       "div.sk-label-container:hover .sk-estimator-doc-link:hover,\n",
       ".sk-estimator-doc-link:hover {\n",
       "  /* unfitted */\n",
       "  background-color: var(--sklearn-color-unfitted-level-3);\n",
       "  color: var(--sklearn-color-background);\n",
       "  text-decoration: none;\n",
       "}\n",
       "\n",
       "div.sk-estimator.fitted:hover .sk-estimator-doc-link.fitted:hover,\n",
       ".sk-estimator-doc-link.fitted:hover,\n",
       "div.sk-label-container:hover .sk-estimator-doc-link.fitted:hover,\n",
       ".sk-estimator-doc-link.fitted:hover {\n",
       "  /* fitted */\n",
       "  background-color: var(--sklearn-color-fitted-level-3);\n",
       "  color: var(--sklearn-color-background);\n",
       "  text-decoration: none;\n",
       "}\n",
       "\n",
       "/* Span, style for the box shown on hovering the info icon */\n",
       ".sk-estimator-doc-link span {\n",
       "  display: none;\n",
       "  z-index: 9999;\n",
       "  position: relative;\n",
       "  font-weight: normal;\n",
       "  right: .2ex;\n",
       "  padding: .5ex;\n",
       "  margin: .5ex;\n",
       "  width: min-content;\n",
       "  min-width: 20ex;\n",
       "  max-width: 50ex;\n",
       "  color: var(--sklearn-color-text);\n",
       "  box-shadow: 2pt 2pt 4pt #999;\n",
       "  /* unfitted */\n",
       "  background: var(--sklearn-color-unfitted-level-0);\n",
       "  border: .5pt solid var(--sklearn-color-unfitted-level-3);\n",
       "}\n",
       "\n",
       ".sk-estimator-doc-link.fitted span {\n",
       "  /* fitted */\n",
       "  background: var(--sklearn-color-fitted-level-0);\n",
       "  border: var(--sklearn-color-fitted-level-3);\n",
       "}\n",
       "\n",
       ".sk-estimator-doc-link:hover span {\n",
       "  display: block;\n",
       "}\n",
       "\n",
       "/* \"?\"-specific style due to the `<a>` HTML tag */\n",
       "\n",
       "#sk-container-id-1 a.estimator_doc_link {\n",
       "  float: right;\n",
       "  font-size: 1rem;\n",
       "  line-height: 1em;\n",
       "  font-family: monospace;\n",
       "  background-color: var(--sklearn-color-background);\n",
       "  border-radius: 1rem;\n",
       "  height: 1rem;\n",
       "  width: 1rem;\n",
       "  text-decoration: none;\n",
       "  /* unfitted */\n",
       "  color: var(--sklearn-color-unfitted-level-1);\n",
       "  border: var(--sklearn-color-unfitted-level-1) 1pt solid;\n",
       "}\n",
       "\n",
       "#sk-container-id-1 a.estimator_doc_link.fitted {\n",
       "  /* fitted */\n",
       "  border: var(--sklearn-color-fitted-level-1) 1pt solid;\n",
       "  color: var(--sklearn-color-fitted-level-1);\n",
       "}\n",
       "\n",
       "/* On hover */\n",
       "#sk-container-id-1 a.estimator_doc_link:hover {\n",
       "  /* unfitted */\n",
       "  background-color: var(--sklearn-color-unfitted-level-3);\n",
       "  color: var(--sklearn-color-background);\n",
       "  text-decoration: none;\n",
       "}\n",
       "\n",
       "#sk-container-id-1 a.estimator_doc_link.fitted:hover {\n",
       "  /* fitted */\n",
       "  background-color: var(--sklearn-color-fitted-level-3);\n",
       "}\n",
       "</style><div id=\"sk-container-id-1\" class=\"sk-top-container\"><div class=\"sk-text-repr-fallback\"><pre>GridSearchCV(cv=StratifiedKFold(n_splits=5, random_state=42, shuffle=True),\n",
       "             estimator=RandomForestClassifier(n_jobs=-1, random_state=42),\n",
       "             n_jobs=-1,\n",
       "             param_grid={&#x27;max_depth&#x27;: [10, None],\n",
       "                         &#x27;max_features&#x27;: [&#x27;sqrt&#x27;, &#x27;log2&#x27;],\n",
       "                         &#x27;min_samples_leaf&#x27;: [2, 4],\n",
       "                         &#x27;min_samples_split&#x27;: [5, 10],\n",
       "                         &#x27;n_estimators&#x27;: [50, 100, 200]},\n",
       "             scoring=&#x27;f1&#x27;, verbose=1)</pre><b>In a Jupyter environment, please rerun this cell to show the HTML representation or trust the notebook. <br />On GitHub, the HTML representation is unable to render, please try loading this page with nbviewer.org.</b></div><div class=\"sk-container\" hidden><div class=\"sk-item sk-dashed-wrapped\"><div class=\"sk-label-container\"><div class=\"sk-label fitted sk-toggleable\"><input class=\"sk-toggleable__control sk-hidden--visually\" id=\"sk-estimator-id-1\" type=\"checkbox\" ><label for=\"sk-estimator-id-1\" class=\"sk-toggleable__label fitted sk-toggleable__label-arrow\"><div><div>GridSearchCV</div></div><div><a class=\"sk-estimator-doc-link fitted\" rel=\"noreferrer\" target=\"_blank\" href=\"https://scikit-learn.org/1.6/modules/generated/sklearn.model_selection.GridSearchCV.html\">?<span>Documentation for GridSearchCV</span></a><span class=\"sk-estimator-doc-link fitted\">i<span>Fitted</span></span></div></label><div class=\"sk-toggleable__content fitted\"><pre>GridSearchCV(cv=StratifiedKFold(n_splits=5, random_state=42, shuffle=True),\n",
       "             estimator=RandomForestClassifier(n_jobs=-1, random_state=42),\n",
       "             n_jobs=-1,\n",
       "             param_grid={&#x27;max_depth&#x27;: [10, None],\n",
       "                         &#x27;max_features&#x27;: [&#x27;sqrt&#x27;, &#x27;log2&#x27;],\n",
       "                         &#x27;min_samples_leaf&#x27;: [2, 4],\n",
       "                         &#x27;min_samples_split&#x27;: [5, 10],\n",
       "                         &#x27;n_estimators&#x27;: [50, 100, 200]},\n",
       "             scoring=&#x27;f1&#x27;, verbose=1)</pre></div> </div></div><div class=\"sk-parallel\"><div class=\"sk-parallel-item\"><div class=\"sk-item\"><div class=\"sk-label-container\"><div class=\"sk-label fitted sk-toggleable\"><input class=\"sk-toggleable__control sk-hidden--visually\" id=\"sk-estimator-id-2\" type=\"checkbox\" ><label for=\"sk-estimator-id-2\" class=\"sk-toggleable__label fitted sk-toggleable__label-arrow\"><div><div>best_estimator_: RandomForestClassifier</div></div></label><div class=\"sk-toggleable__content fitted\"><pre>RandomForestClassifier(min_samples_leaf=2, min_samples_split=5, n_estimators=50,\n",
       "                       n_jobs=-1, random_state=42)</pre></div> </div></div><div class=\"sk-serial\"><div class=\"sk-item\"><div class=\"sk-estimator fitted sk-toggleable\"><input class=\"sk-toggleable__control sk-hidden--visually\" id=\"sk-estimator-id-3\" type=\"checkbox\" ><label for=\"sk-estimator-id-3\" class=\"sk-toggleable__label fitted sk-toggleable__label-arrow\"><div><div>RandomForestClassifier</div></div><div><a class=\"sk-estimator-doc-link fitted\" rel=\"noreferrer\" target=\"_blank\" href=\"https://scikit-learn.org/1.6/modules/generated/sklearn.ensemble.RandomForestClassifier.html\">?<span>Documentation for RandomForestClassifier</span></a></div></label><div class=\"sk-toggleable__content fitted\"><pre>RandomForestClassifier(min_samples_leaf=2, min_samples_split=5, n_estimators=50,\n",
       "                       n_jobs=-1, random_state=42)</pre></div> </div></div></div></div></div></div></div></div></div>"
      ],
      "text/plain": [
       "GridSearchCV(cv=StratifiedKFold(n_splits=5, random_state=42, shuffle=True),\n",
       "             estimator=RandomForestClassifier(n_jobs=-1, random_state=42),\n",
       "             n_jobs=-1,\n",
       "             param_grid={'max_depth': [10, None],\n",
       "                         'max_features': ['sqrt', 'log2'],\n",
       "                         'min_samples_leaf': [2, 4],\n",
       "                         'min_samples_split': [5, 10],\n",
       "                         'n_estimators': [50, 100, 200]},\n",
       "             scoring='f1', verbose=1)"
      ]
     },
     "execution_count": 23,
     "metadata": {},
     "output_type": "execute_result"
    }
   ],
   "source": [
    "# Fit the grid search on VALIDATION data\n",
    "grid_search.fit(X_val, y_val)"
   ]
  },
  {
   "cell_type": "code",
   "execution_count": 24,
   "id": "8807c0a5",
   "metadata": {},
   "outputs": [
    {
     "name": "stdout",
     "output_type": "stream",
     "text": [
      "Best Hyperparameters:\n",
      "- max_depth: None\n",
      "- max_features: sqrt\n",
      "- min_samples_leaf: 2\n",
      "- min_samples_split: 5\n",
      "- n_estimators: 50\n",
      "\n",
      "Best Cross-Validation F1 Score: 0.9737\n"
     ]
    }
   ],
   "source": [
    "# Display best parameters\n",
    "print(\"Best Hyperparameters:\")\n",
    "best_params = grid_search.best_params_\n",
    "for param, value in best_params.items():\n",
    "    print(f\"- {param}: {value}\")\n",
    "\n",
    "print(f\"\\nBest Cross-Validation F1 Score: {grid_search.best_score_:.4f}\")"
   ]
  },
  {
   "cell_type": "code",
   "execution_count": 25,
   "id": "1ff994dd",
   "metadata": {},
   "outputs": [],
   "source": [
    "# Get the best model\n",
    "rf_optimized = grid_search.best_estimator_"
   ]
  },
  {
   "cell_type": "code",
   "execution_count": 26,
   "id": "850f833e",
   "metadata": {},
   "outputs": [],
   "source": [
    "# Display the top 5 parameter combinations\n",
    "results_df = pd.DataFrame(grid_search.cv_results_)\n",
    "results_df = results_df.sort_values(by='mean_test_score', ascending=False)"
   ]
  },
  {
   "cell_type": "markdown",
   "id": "91d07298",
   "metadata": {},
   "source": [
    "### E4. Predictions"
   ]
  },
  {
   "cell_type": "code",
   "execution_count": 27,
   "id": "d2df88f7",
   "metadata": {},
   "outputs": [],
   "source": [
    "# Make predictions on TEST dataset\n",
    "y_test_pred = rf_optimized.predict(X_test)\n",
    "y_test_proba = rf_optimized.predict_proba(X_test)[:, 1]"
   ]
  },
  {
   "cell_type": "code",
   "execution_count": 28,
   "id": "caa5a245",
   "metadata": {},
   "outputs": [
    {
     "name": "stdout",
     "output_type": "stream",
     "text": [
      "Accuracy: 0.9813 (98.1%)\n",
      "Precision: 0.9694 (96.9%)\n",
      "Recall: 0.9800 (98.0%)\n",
      "F1 Score: 0.9747 (97.5%)\n",
      "AUC-ROC: 0.9987 (99.9%)\n",
      "\n",
      "Confusion Matrix:\n",
      "                    Predicted\n",
      "Actual    No (0)   Yes (1)\n",
      "No (0)       933        17\n",
      "Yes (1)       11       539\n"
     ]
    }
   ],
   "source": [
    "# Calculate and print all required metrics on TEST data\n",
    "test_accuracy = accuracy_score(y_test, y_test_pred)\n",
    "test_precision = precision_score(y_test, y_test_pred)\n",
    "test_recall = recall_score(y_test, y_test_pred)\n",
    "test_f1 = f1_score(y_test, y_test_pred)\n",
    "test_auc_roc = roc_auc_score(y_test, y_test_proba)\n",
    "\n",
    "# Calculate and print all required metrics\n",
    "# 1. Accuracy\n",
    "test_accuracy = accuracy_score(y_test, y_test_pred)\n",
    "print(f\"Accuracy: {test_accuracy:.4f} ({test_accuracy:.1%})\")\n",
    "\n",
    "# 2. Precision\n",
    "test_precision = precision_score(y_test, y_test_pred)\n",
    "print(f\"Precision: {test_precision:.4f} ({test_precision:.1%})\")\n",
    "\n",
    "# 3. Recall\n",
    "test_recall = recall_score(y_test, y_test_pred)\n",
    "print(f\"Recall: {test_recall:.4f} ({test_recall:.1%})\")\n",
    "\n",
    "# 4. F1 Score\n",
    "test_f1 = f1_score(y_test, y_test_pred)\n",
    "print(f\"F1 Score: {test_f1:.4f} ({test_f1:.1%})\")\n",
    "\n",
    "# 5. AUC-ROC\n",
    "test_auc_roc = roc_auc_score(y_test, y_test_proba)\n",
    "print(f\"AUC-ROC: {test_auc_roc:.4f} ({test_auc_roc:.1%})\")\n",
    "\n",
    "# 6. Confusion Matrix for TEST\n",
    "test_cm = confusion_matrix(y_test, y_test_pred)\n",
    "print(f\"\\nConfusion Matrix:\")\n",
    "print(f\"                    Predicted\")\n",
    "print(f\"Actual    No (0)   Yes (1)\")\n",
    "print(f\"No (0)    {test_cm[0,0]:6d}    {test_cm[0,1]:6d}\")\n",
    "print(f\"Yes (1)   {test_cm[1,0]:6d}    {test_cm[1,1]:6d}\")"
   ]
  },
  {
   "cell_type": "code",
   "execution_count": 29,
   "id": "7af2a057",
   "metadata": {},
   "outputs": [
    {
     "name": "stdout",
     "output_type": "stream",
     "text": [
      "\n",
      "Detailed Breakdown:\n",
      "True Negatives (TN):  933\n",
      "False Positives (FP): 17\n",
      "False Negatives (FN): 11\n",
      "True Positives (TP):  539\n"
     ]
    }
   ],
   "source": [
    "# Detailed breakdown\n",
    "tn_test, fp_test, fn_test, tp_test = test_cm.ravel()\n",
    "print(f\"\\nDetailed Breakdown:\")\n",
    "print(f\"True Negatives (TN):  {tn_test:,}\")\n",
    "print(f\"False Positives (FP): {fp_test:,}\")\n",
    "print(f\"False Negatives (FN): {fn_test:,}\")\n",
    "print(f\"True Positives (TP):  {tp_test:,}\")"
   ]
  },
  {
   "cell_type": "code",
   "execution_count": 30,
   "id": "d1683f48",
   "metadata": {},
   "outputs": [
    {
     "name": "stdout",
     "output_type": "stream",
     "text": [
      "\n",
      "Classification Report:\n",
      "                precision    recall  f1-score   support\n",
      "\n",
      "Not Readmitted       0.99      0.98      0.99       950\n",
      "    Readmitted       0.97      0.98      0.97       550\n",
      "\n",
      "      accuracy                           0.98      1500\n",
      "     macro avg       0.98      0.98      0.98      1500\n",
      "  weighted avg       0.98      0.98      0.98      1500\n",
      "\n"
     ]
    }
   ],
   "source": [
    "print(f\"\\nClassification Report:\")\n",
    "print(classification_report(y_test, y_test_pred,\n",
    "                          target_names=['Not Readmitted', 'Readmitted']))"
   ]
  },
  {
   "cell_type": "code",
   "execution_count": 31,
   "id": "2f76a646",
   "metadata": {},
   "outputs": [
    {
     "data": {
      "image/png": "[encoded data removed]",
      "text/plain": [
       "<Figure size 800x600 with 2 Axes>"
      ]
     },
     "metadata": {},
     "output_type": "display_data"
    }
   ],
   "source": [
    "# Visualize confusion matrix for TEST data\n",
    "plt.figure(figsize=(8, 6))\n",
    "sns.heatmap(test_cm, annot=True, fmt='d', cmap='Blues',\n",
    "            xticklabels=['Not Readmitted', 'Readmitted'],\n",
    "            yticklabels=['Not Readmitted', 'Readmitted'])\n",
    "plt.title('Optimized Random Forest Model - Confusion Matrix\\n(Test Dataset)')\n",
    "plt.xlabel('Predicted')\n",
    "plt.ylabel('Actual')\n",
    "plt.tight_layout()\n",
    "plt.show()"
   ]
  },
  {
   "cell_type": "code",
   "execution_count": 32,
   "id": "47e9816b",
   "metadata": {},
   "outputs": [
    {
     "name": "stdout",
     "output_type": "stream",
     "text": [
      "Initial Model (Training Dataset):\n",
      "- Accuracy: 1.0000\n",
      "- Precision: 1.0000\n",
      "- Recall: 1.0000\n",
      "- F1 Score: 1.0000\n",
      "- AUC-ROC: 1.0000\n",
      "\n",
      "Optimized Model (Test Dataset):\n",
      "- Accuracy: 0.9813\n",
      "- Precision: 0.9694\n",
      "- Recall: 0.9800\n",
      "- F1 Score: 0.9747\n",
      "- AUC-ROC: 0.9987\n"
     ]
    }
   ],
   "source": [
    "# Compare initial model (training data) vs optimized model (test data)\n",
    "print(f\"Initial Model (Training Dataset):\")\n",
    "print(f\"- Accuracy: {accuracy:.4f}\")\n",
    "print(f\"- Precision: {precision:.4f}\")\n",
    "print(f\"- Recall: {recall:.4f}\")\n",
    "print(f\"- F1 Score: {f1:.4f}\")\n",
    "print(f\"- AUC-ROC: {auc_roc:.4f}\")\n",
    "\n",
    "print(f\"\\nOptimized Model (Test Dataset):\")\n",
    "print(f\"- Accuracy: {test_accuracy:.4f}\")\n",
    "print(f\"- Precision: {test_precision:.4f}\")\n",
    "print(f\"- Recall: {test_recall:.4f}\")\n",
    "print(f\"- F1 Score: {test_f1:.4f}\")\n",
    "print(f\"- AUC-ROC: {test_auc_roc:.4f}\")"
   ]
  },
  {
   "cell_type": "code",
   "execution_count": 33,
   "id": "ab03a86a",
   "metadata": {},
   "outputs": [
    {
     "name": "stdout",
     "output_type": "stream",
     "text": [
      "\n",
      "Performance Differences (Test vs Training):\n",
      "- Accuracy difference: -0.0187\n",
      "- Precision difference: -0.0306\n",
      "- Recall difference: -0.0200\n",
      "- F1 Score difference: -0.0253\n",
      "- AUC-ROC difference: -0.0013\n"
     ]
    }
   ],
   "source": [
    "# Performance differences\n",
    "print(f\"\\nPerformance Differences (Test vs Training):\")\n",
    "print(f\"- Accuracy difference: {test_accuracy - accuracy:.4f}\")\n",
    "print(f\"- Precision difference: {test_precision - precision:.4f}\")\n",
    "print(f\"- Recall difference: {test_recall - recall:.4f}\")\n",
    "print(f\"- F1 Score difference: {test_f1 - f1:.4f}\")\n",
    "print(f\"- AUC-ROC difference: {test_auc_roc - auc_roc:.4f}\")"
   ]
  },
  {
   "cell_type": "markdown",
   "id": "d77e057c",
   "metadata": {},
   "source": [
    "#### Feature Importance"
   ]
  },
  {
   "cell_type": "code",
   "execution_count": 34,
   "id": "0e94c25c",
   "metadata": {},
   "outputs": [
    {
     "name": "stdout",
     "output_type": "stream",
     "text": [
      "initial_days: 0.5468\n",
      "total_charge: 0.3957\n",
      "income: 0.0089\n",
      "vit_d_levels: 0.0079\n",
      "additional_charges: 0.0073\n",
      "age: 0.0042\n",
      "children: 0.0033\n",
      "initial_admin: 0.0029\n",
      "services: 0.0025\n",
      "marital: 0.0025\n",
      "doc_visits: 0.0024\n",
      "area: 0.0023\n",
      "complication_risk: 0.0022\n",
      "full_meals_eaten: 0.0022\n",
      "arthritis: 0.0016\n",
      "gender: 0.0012\n",
      "vit_d_supp: 0.0011\n",
      "high_blood: 0.0010\n",
      "anxiety: 0.0009\n",
      "overweight: 0.0007\n",
      "diabetes: 0.0006\n",
      "back_pain: 0.0005\n",
      "asthma: 0.0005\n",
      "soft_drink: 0.0005\n",
      "stroke: 0.0004\n"
     ]
    }
   ],
   "source": [
    "# Selecting most important features\n",
    "importances = rf_optimized.feature_importances_\n",
    "\n",
    "# Pair features with importance values\n",
    "feature_importances = list(zip(X.columns, importances))\n",
    "\n",
    "# Sort features by importance\n",
    "feature_importances.sort(key=lambda x: x[1], reverse=True)\n",
    "for feature, importance in feature_importances:\n",
    "  print(f\"{feature}: {importance:.4f}\")"
   ]
  },
  {
   "cell_type": "markdown",
   "id": "ca6e60c3",
   "metadata": {},
   "source": [
    "## F. Analysis Summary"
   ]
  },
  {
   "cell_type": "markdown",
   "id": "7def4258",
   "metadata": {},
   "source": [
    "### F1. Model Evaluation"
   ]
  },
  {
   "cell_type": "markdown",
   "id": "cef2717f",
   "metadata": {},
   "source": [
    "The comparison between the initial model performance on training data and the optimized performance model on test data revealed several key insights about the Random Forest Classifier.\n",
    "\n",
    "The initial model, trained on the training dataset in Part E2, achieved perfect performance across all metrics, receiving a 100% on accuracy, precision, recall, F1 Score, and AUC-ROC. This indicates the model successfully learned patterns in the training dataset, but overfitting occurred. Perfect scores are both expected and normal for Random Forest Classification models when used on training data, again as a result of overfitting.\n",
    "\n",
    "When splitting the data in Part E1, I took careful measure to use the `stratify=y` parameter when splitting the intitial dataset into training, validation, and testing splits in order to keep the appropriate proportions of readmitted and non-readmitted patients for accurate testing of the model's predictive powers.\n",
    "\n",
    "The optimized model was developed in Part E4 using the validation training dataset and then used on the testing dataset. All metrics performed at a 96% or above, showing that the hyperparameter tuning solved for overfitting while representing the model's true predictive capabilities on unseen data. The slight drop in performance again suggests that the initial model was suffering from overfitting.\n",
    "\n",
    "In the hyperparameter tuning state (Part E3) used 5-fold cross-validation on the validation dataset to find optimal parameters, balancing model complexity and generalization of its predictive capabilities. Optimization of the F1 Score ensured balanced precision and recall for medical applications.\n",
    "\n",
    "The small performance drop between the initial model and the optimized model is normal and expected when moving from training to testing datasets. The hyperparameter tuning using with k-fold cross-validation successfully optimized the model for true predictive performance rather than the over-estimations that the overfitting was causing. The AUC-ROC scores indicate good discrimination ability between readmitted and non-readmitted patients and the optimized model generalizes well to unseen data despite the small drop in metric scores. This results in a better identification of true positives and fewer false positives."
   ]
  },
  {
   "cell_type": "markdown",
   "id": "879274ea",
   "metadata": {},
   "source": [
    "### F2. Results and Implications"
   ]
  },
  {
   "cell_type": "markdown",
   "id": "3934f209",
   "metadata": {},
   "source": [
    "The optimized Random Forest Classification model successfully predicts patient readmission risk with approximately 96.9% accuracy, providing actionable insights for reducing patient readmission and building or improving upon hospital intervention programs.\n",
    "\n",
    "**Clinical Implications:**\n",
    "\n",
    "1. Early risk identification: The model enables early identification of high-risk patients before discharge, allowing medical staff to implement targeted interventions.\n",
    "2. Resource allocation: Hospitals can prioritize limited resources toward patients most likely to be readmitted.\n",
    "3. Personalized care plans: Feature importance rankings reveal which patient characteristics most strongly predict readmission, enabling personalized care strategies.\n",
    "\n",
    "**Feature Importance Insights:**\n",
    "\n",
    "The most significant features demonstrate that length of initial hospital stay (`initial_days`) and total charges (`total_charges`) are key predictors, likely due to longer stays and higher charges indicating more severe and/or more involved treatment needs.\n",
    "\n",
    "**Business Impact:**\n",
    "\n",
    "1. Cost reduction: Preventing readmissions reduces CMS penalties and associated costs.\n",
    "2. Improved patient outcomes: Targeted interventions improve patient health and satisfaction.\n",
    "3. Operational efficiency: Predictive insights enable better discharge planning and resource management.\n",
    "\n",
    "**Healthcare Quality:**\n",
    "\n",
    "The model supports evidence-based medicine by providing data-driven insights into readmission risk factors, ultimately improving the quality of patient care."
   ]
  },
  {
   "cell_type": "markdown",
   "id": "baefda96",
   "metadata": {},
   "source": [
    "### F3. Limitation"
   ]
  },
  {
   "cell_type": "markdown",
   "id": "3f609568",
   "metadata": {},
   "source": [
    "Perhaps the biggest limitation of this particular analysis is that the model was trained and tested on data from a single hospital chain, limiting its generalizability to other healthcare systems with different patient populations, treatment approaches, or geographic locations.\n",
    "\n",
    "Factors such as regional health disparities, varying socioeconomic conditions, patient access to hospitals and healthcare centers, and different hospital protocols could significantly impact the model's performance when applied to other healthcare organizations or hospital chains.\n",
    "\n",
    "The model would need to be validated before deployment using different healthcare settings to ensure continued accuracy and relevance."
   ]
  },
  {
   "cell_type": "markdown",
   "id": "0bf6ba11",
   "metadata": {},
   "source": [
    "### F4. Analysis Summary"
   ]
  },
  {
   "cell_type": "markdown",
   "id": "bdc3a58d",
   "metadata": {},
   "source": [
    "The original question asked is: Can we predict which patients are most likely to be readmitted within 30 days of discharge so that our hospital chain can implement targeted intervention programs to improve patient outcomes and reduce readmission penalties?\n",
    "\n",
    "My initial recommended course of action is to focus on high-risk predictor variables like length of initial stay (measured in days) and total charge.\n",
    "\n",
    "I would recommend deploying the model's use in 2-3 test hospitals and determining if the predictions can be generalized beyond the initial dataset provided.\n",
    "\n",
    "I would also recommend training discharge planning teams and patient case managers on interpreting the model predictions and feature importance scores; this can provide flags on which patients are most at risk of readmission.\n",
    "\n",
    "Finally, after further testing, I would recommend integrating the model with the electronic health records (EHR) system to automatically generate risk scores during patient stays.\n",
    "\n",
    "With these things in mind, further courses of action that can be rolled out over time include developing standardized protocols for high-risk patients, establishing dedicated care coordination teams, hospital chain-wide rollout, performance monitoring to check for intervention effectiveness, and financial impact tracking.\n",
    "\n",
    "Over the long term, model maintenance will need to be addressed to account for performance degradation and retraining, a consideration for broader model expansion to predict other patient outcomes, and improved financial impact tracking to determine return on investment through reduced penalties and improved patient satisfaction."
   ]
  },
  {
   "cell_type": "markdown",
   "id": "bd910608",
   "metadata": {},
   "source": [
    "## G. Panopto Recording"
   ]
  },
  {
   "cell_type": "markdown",
   "id": "c5de15cb",
   "metadata": {},
   "source": [
    "https://wgu.hosted.panopto.com/Panopto/Pages/Viewer.aspx?id=718e590c-a72a-4279-84d8-b33200208e80"
   ]
  },
  {
   "cell_type": "markdown",
   "id": "fef2e0bc",
   "metadata": {},
   "source": [
    "## H. Sources for Third-Party Code"
   ]
  },
  {
   "cell_type": "markdown",
   "id": "19cedec4",
   "metadata": {},
   "source": [
    "- Codecademy (n.d.) _Encoding Categorical Variables_. https://www.codecademy.com/journeys/data-scientist-ml/paths/dsmlcj-22-machine-learning-foundations/tracks/dsmlcj-22-machine-learning-fun/modules/dsml-data-transformations-for-feature-analysis-2f0d46b3-b281-4d68-a8ac-30a198aae004/articles/fe-encoding-categorical-variables\n",
    "- Codecademy (n.d.). _Training, Validation and Test Dataset_. https://www.codecademy.com/journeys/data-scientist-ml/paths/dsmlcj-22-machine-learning-i/tracks/dsmlcj-22-supervised-learning-i/modules/mle-evaluation-metrics-98226eca-cdc3-42e7-98ee-9336cdb65a8c-a92db6b9-8ef8-4381-95d3-1e806194d196/articles/mlfun-training-test-validation"
   ]
  },
  {
   "cell_type": "markdown",
   "id": "5d81ce91",
   "metadata": {},
   "source": [
    "## I. Sources"
   ]
  },
  {
   "cell_type": "markdown",
   "id": "9a60c90e",
   "metadata": {},
   "source": [
    "- WGU Course Materials"
   ]
  }
 ],
 "metadata": {
  "kernelspec": {
   "display_name": "base",
   "language": "python",
   "name": "python3"
  },
  "language_info": {
   "codemirror_mode": {
    "name": "ipython",
    "version": 3
   },
   "file_extension": ".py",
   "mimetype": "text/x-python",
   "name": "python",
   "nbconvert_exporter": "python",
   "pygments_lexer": "ipython3",
   "version": "3.13.5"
  }
 },
 "nbformat": 4,
 "nbformat_minor": 5
}
