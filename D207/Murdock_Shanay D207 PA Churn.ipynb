{
 "cells": [
  {
   "cell_type": "markdown",
   "id": "07b95011-21bc-46c4-86a5-27ec16e36bd4",
   "metadata": {},
   "source": [
    "# D207 Performance Assessment: Exploratory Data Analysis (EDA)\n",
    "\n",
    "Shanay Murdock\n",
    "\n",
    "WGU MSDA-DS Masters Candidate"
   ]
  },
  {
   "cell_type": "markdown",
   "id": "6ad8ec8b-b9eb-459f-bbc5-81dde9923d78",
   "metadata": {},
   "source": [
    "## A. Describe a real-world organizational situation or issue in the Churn dataset."
   ]
  },
  {
   "cell_type": "markdown",
   "id": "38c32b51-e437-43f0-9cf4-f051e6f2b965",
   "metadata": {},
   "source": [
    "### A1. Question for Analysis\n",
    "\n",
    "I used the Churn dataset for D205 and D206 and will continue to use it for analysis in D207. In this analysis, I want to determine if the number of yearly equipment failures contributes to customer churn. Churn indicates the percentage of customers who start service with the company and leave for any reason. Therefore, the question is: Do customers with yearly equipment failures leave the service at a rate higher than the rest of the population?\n",
    "\n",
    "- Null Hypothesis: $H_0 = churn_{Yearly\\_equipment\\_failure} = churn_{population}$\n",
    "- Alternate Hypothesis: $H_1 = churn_{Yearly\\_equipment\\_failure} \\neq churn_{population}$\n",
    "\n",
    "I will work from an alpha value of 0.05 as the industry standard."
   ]
  },
  {
   "cell_type": "markdown",
   "id": "fdfedb04-a2e8-4bb9-b02e-8ddd6e502444",
   "metadata": {},
   "source": [
    "### A2. Benefit from Analysis\n",
    "\n",
    "Telecommunications is a competitive market with no shortage of options for customers. It’s more expensive to bring on new customers than to keep existing customers, so understanding if customers leave based on equipment failure while measuring tenure can guide executives to strategize toward reducing customer churn by reviewing the causes of equipment failure.\n",
    "\n",
    "Growth certainly involves bringing on new customers, but more net growth can be maintained if we can reduce the number of customers churned. This can be accomplished by understanding why customers leave for another provider and mitigating controllable factors."
   ]
  },
  {
   "cell_type": "markdown",
   "id": "ce334f36-dd95-4932-a7d7-5369bffcd431",
   "metadata": {},
   "source": [
    "### A3. Data Identification\n",
    "\n",
    "The variables used in this analysis will be `Churn` and `Yearly_equip_failure`.\n",
    "\n",
    "- `Churn` (qualitative, categorical): Whether or not the customer discontinued service within the last month\n",
    "- `Yearly_equipment_failure` (quantitative/discrete): Number of times the customer’s equipment failed or needed to be reset/replaced in the last year."
   ]
  },
  {
   "cell_type": "code",
   "execution_count": null,
   "id": "8fb23f84-b47a-4f6f-b84f-a0969e3cf8cc",
   "metadata": {},
   "outputs": [],
   "source": []
  }
 ],
 "metadata": {
  "kernelspec": {
   "display_name": "Python 3 (ipykernel)",
   "language": "python",
   "name": "python3"
  },
  "language_info": {
   "codemirror_mode": {
    "name": "ipython",
    "version": 3
   },
   "file_extension": ".py",
   "mimetype": "text/x-python",
   "name": "python",
   "nbconvert_exporter": "python",
   "pygments_lexer": "ipython3",
   "version": "3.12.4"
  }
 },
 "nbformat": 4,
 "nbformat_minor": 5
}
